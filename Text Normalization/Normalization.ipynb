{
 "cells": [
  {
   "cell_type": "code",
   "execution_count": null,
   "id": "d1622054",
   "metadata": {
    "scrolled": false
   },
   "outputs": [],
   "source": [
    "import pandas as pd\n",
    "df = pd.read_csv('Tweets.csv')\n",
    "df"
   ]
  },
  {
   "cell_type": "code",
   "execution_count": null,
   "id": "a4d6752f",
   "metadata": {},
   "outputs": [],
   "source": [
    "from camel_tools.utils.charsets import AR_LETTERS_CHARSET\n",
    "from camel_tools.morphology.database import MorphologyDB\n",
    "from camel_tools.morphology.analyzer import Analyzer\n",
    "from camel_tools.tokenizers.word import simple_word_tokenize\n",
    "    \n",
    "    \n",
    "class Morphological_Analysis:\n",
    "\n",
    "    def del_nonAR(df, col):\n",
    "        for rows in df[col]:\n",
    "            for char in rows:\n",
    "                if char not in AR_LETTERS_CHARSET and char != ' ' :\n",
    "                    df[col] = df[col].str.replace(char, '')\n",
    "        return df\n",
    "                    \n",
    "    def get_lex(df, col):\n",
    "        \n",
    "        db = MorphologyDB.builtin_db('calima-egy-r13')\n",
    "        analyzer = Analyzer(db)\n",
    "        \n",
    "        for rows in df[col]:\n",
    "            sentence = simple_word_tokenize(rows)\n",
    "            lex_sentence = ''\n",
    "            for words in sentence:\n",
    "                try:\n",
    "                    lex_sentence += analyzer.analyze(words)[0]['root'] + ' '\n",
    "                    lex_sentence = lex_sentence.replace('.', '')\n",
    "                except:\n",
    "                    lex_sentence += ' ' + words + ' '\n",
    "            print(lex_sentence)\n",
    "            df[col] = df[col].str.replace(rows, lex_sentence)\n",
    "        return df\n",
    "            \n",
    "class Sentiment_Analysis:\n",
    "    \n",
    "    from camel_tools.sentiment import SentimentAnalyzer\n",
    "    \n",
    "    def get_sentiment(df, col):\n",
    "        sa = SentimentAnalyzer.pretrained()\n",
    "        sentences = []\n",
    "        for rows in df[col]:\n",
    "            sentences.append(rows)\n",
    "        sentiments = sa.predict(sentences)\n",
    "        df['Sentiment'] = sentiments\n",
    "        return df"
   ]
  },
  {
   "cell_type": "markdown",
   "id": "3dba05a4",
   "metadata": {},
   "source": [
    "Removing Non-Arabic Characters"
   ]
  },
  {
   "cell_type": "code",
   "execution_count": null,
   "id": "9a726c56",
   "metadata": {},
   "outputs": [],
   "source": [
    "Morph = Morphological_Analysis\n",
    "\n",
    "Morph.del_nonAR(df, 'Tweet')"
   ]
  },
  {
   "cell_type": "markdown",
   "id": "aebebfdb",
   "metadata": {},
   "source": [
    "Get Words' Root"
   ]
  },
  {
   "cell_type": "code",
   "execution_count": null,
   "id": "061d10fa",
   "metadata": {},
   "outputs": [],
   "source": [
    "Morph.get_lex(df, 'Tweet')"
   ]
  },
  {
   "cell_type": "markdown",
   "id": "4df6a96b",
   "metadata": {},
   "source": [
    "Get Sentiments"
   ]
  },
  {
   "cell_type": "code",
   "execution_count": null,
   "id": "7a841a4e",
   "metadata": {},
   "outputs": [],
   "source": [
    "Sent = Sentiment_Analysis\n",
    "Sent.get_sentiment(df, 'Tweet')"
   ]
  },
  {
   "cell_type": "code",
   "execution_count": null,
   "id": "40fd771c",
   "metadata": {},
   "outputs": [],
   "source": [
    "del df['Unnamed: 0']\n",
    "#df.to_csv('Tweets.csv')"
   ]
  },
  {
   "cell_type": "code",
   "execution_count": null,
   "id": "cb9c84f4",
   "metadata": {},
   "outputs": [],
   "source": [
    "from camel_tools.disambig.mle import MLEDisambiguator\n",
    "from camel_tools.tagger.default import DefaultTagger\n",
    "\n",
    "mled = MLEDisambiguator.pretrained()\n",
    "tagger = DefaultTagger(mled, 'pos')\n",
    "\n",
    "tagger.tag('ذهبت الى المدرسة'.split())"
   ]
  },
  {
   "cell_type": "code",
   "execution_count": null,
   "id": "ab2efc50",
   "metadata": {},
   "outputs": [],
   "source": [
    "# no. of retweets\n",
    "api.get_status(id).retweet_count"
   ]
  },
  {
   "cell_type": "code",
   "execution_count": null,
   "id": "d4d51711",
   "metadata": {},
   "outputs": [],
   "source": []
  }
 ],
 "metadata": {
  "kernelspec": {
   "display_name": "Python 3 (ipykernel)",
   "language": "python",
   "name": "python3"
  },
  "language_info": {
   "codemirror_mode": {
    "name": "ipython",
    "version": 3
   },
   "file_extension": ".py",
   "mimetype": "text/x-python",
   "name": "python",
   "nbconvert_exporter": "python",
   "pygments_lexer": "ipython3",
   "version": "3.10.2"
  }
 },
 "nbformat": 4,
 "nbformat_minor": 5
}
