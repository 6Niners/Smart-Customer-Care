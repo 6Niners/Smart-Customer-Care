{
 "cells": [
  {
   "cell_type": "code",
   "execution_count": null,
   "id": "061d10fa",
   "metadata": {},
   "outputs": [],
   "source": [
    "from camel_tools.morphology.database import MorphologyDB\n",
    "from camel_tools.morphology.analyzer import Analyzer\n",
    "from camel_tools.tokenizers.word import simple_word_tokenize\n",
    "\n",
    "db = MorphologyDB.builtin_db()\n",
    "analyzer = Analyzer(db)\n",
    "sentence = simple_word_tokenize('احمد يشرب')\n",
    "lex_sentence = ''\n",
    "#print(analyzer.analyze_words(sentence))\n",
    "for words in sentence:\n",
    "   lex_sentence += analyzer.analyze(words)[0]['lex'] + ' '\n",
    "lex_sentence"
   ]
  },
  {
   "cell_type": "code",
   "execution_count": null,
   "id": "cb9c84f4",
   "metadata": {},
   "outputs": [],
   "source": [
    "from camel_tools.disambig.mle import MLEDisambiguator\n",
    "from camel_tools.tagger.default import DefaultTagger\n",
    "\n",
    "mled = MLEDisambiguator.pretrained()\n",
    "tagger = DefaultTagger(mled, 'pos')\n",
    "\n",
    "tagger.tag('ذهبت الى المدرسة'.split())"
   ]
  },
  {
   "cell_type": "code",
   "execution_count": null,
   "id": "be5bb5a8",
   "metadata": {},
   "outputs": [],
   "source": [
    "import tweepy\n",
    "import configparser\n",
    "# read configs\n",
    "config = configparser.ConfigParser()\n",
    "config.read(\"config.ini\")\n",
    "\n",
    "api_key = config[\"twitter\"][\"api_key\"]\n",
    "api_key_secret = config[\"twitter\"][\"api_key_secret\"]\n",
    "\n",
    "access_token = config[\"twitter\"][\"access_token\"]\n",
    "access_token_secret = config[\"twitter\"][\"access_token_secret\"]\n",
    "\n",
    "# for testing \n",
    "#print(api_key)"
   ]
  },
  {
   "cell_type": "code",
   "execution_count": null,
   "id": "36d712d5",
   "metadata": {},
   "outputs": [],
   "source": [
    "# authentication\n",
    "auth = tweepy.OAuthHandler(api_key, api_key_secret)\n",
    "auth.set_access_token(access_token, access_token_secret)\n",
    "\n",
    "api = tweepy.API(auth)"
   ]
  },
  {
   "cell_type": "code",
   "execution_count": null,
   "id": "ab2efc50",
   "metadata": {},
   "outputs": [],
   "source": [
    "# no. of retweets\n",
    "api.get_status(id).retweet_count"
   ]
  },
  {
   "cell_type": "code",
   "execution_count": null,
   "id": "d4d51711",
   "metadata": {},
   "outputs": [],
   "source": []
  }
 ],
 "metadata": {
  "kernelspec": {
   "display_name": "Python 3 (ipykernel)",
   "language": "python",
   "name": "python3"
  },
  "language_info": {
   "codemirror_mode": {
    "name": "ipython",
    "version": 3
   },
   "file_extension": ".py",
   "mimetype": "text/x-python",
   "name": "python",
   "nbconvert_exporter": "python",
   "pygments_lexer": "ipython3",
   "version": "3.10.2"
  }
 },
 "nbformat": 4,
 "nbformat_minor": 5
}
