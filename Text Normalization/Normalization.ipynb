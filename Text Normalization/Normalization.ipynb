{
 "cells": [
  {
   "cell_type": "code",
   "execution_count": 1,
   "id": "d1622054",
   "metadata": {
    "scrolled": false
   },
   "outputs": [
    {
     "data": {
      "text/html": [
       "<div>\n",
       "<style scoped>\n",
       "    .dataframe tbody tr th:only-of-type {\n",
       "        vertical-align: middle;\n",
       "    }\n",
       "\n",
       "    .dataframe tbody tr th {\n",
       "        vertical-align: top;\n",
       "    }\n",
       "\n",
       "    .dataframe thead th {\n",
       "        text-align: right;\n",
       "    }\n",
       "</style>\n",
       "<table border=\"1\" class=\"dataframe\">\n",
       "  <thead>\n",
       "    <tr style=\"text-align: right;\">\n",
       "      <th></th>\n",
       "      <th>Unnamed: 0</th>\n",
       "      <th>Tweet</th>\n",
       "      <th>Location</th>\n",
       "      <th>year</th>\n",
       "      <th>month</th>\n",
       "      <th>day</th>\n",
       "    </tr>\n",
       "  </thead>\n",
       "  <tbody>\n",
       "    <tr>\n",
       "      <th>0</th>\n",
       "      <td>0</td>\n",
       "      <td>اللي بينا مايتقدر   عمرو_دياب فودافون httpstco...</td>\n",
       "      <td>Cairo, Egypt</td>\n",
       "      <td>2022</td>\n",
       "      <td>4</td>\n",
       "      <td>4</td>\n",
       "    </tr>\n",
       "    <tr>\n",
       "      <th>1</th>\n",
       "      <td>1</td>\n",
       "      <td>ما بعد فوق قمة الاستهتار والاهمال واللا مبالاة...</td>\n",
       "      <td>Egypt</td>\n",
       "      <td>2022</td>\n",
       "      <td>4</td>\n",
       "      <td>4</td>\n",
       "    </tr>\n",
       "    <tr>\n",
       "      <th>2</th>\n",
       "      <td>2</td>\n",
       "      <td>عاجل فضيحة فودافون تتسبب في أزمة بعد تسريب_بيا...</td>\n",
       "      <td>dokki</td>\n",
       "      <td>2022</td>\n",
       "      <td>4</td>\n",
       "      <td>4</td>\n",
       "    </tr>\n",
       "    <tr>\n",
       "      <th>3</th>\n",
       "      <td>3</td>\n",
       "      <td>10700 وحدة    3270105200846858  فودافون</td>\n",
       "      <td>مصر</td>\n",
       "      <td>2022</td>\n",
       "      <td>4</td>\n",
       "      <td>3</td>\n",
       "    </tr>\n",
       "    <tr>\n",
       "      <th>4</th>\n",
       "      <td>4</td>\n",
       "      <td>فودافون   8584575262021929698  250 وحده  85839...</td>\n",
       "      <td>مصر</td>\n",
       "      <td>2022</td>\n",
       "      <td>4</td>\n",
       "      <td>3</td>\n",
       "    </tr>\n",
       "    <tr>\n",
       "      <th>...</th>\n",
       "      <td>...</td>\n",
       "      <td>...</td>\n",
       "      <td>...</td>\n",
       "      <td>...</td>\n",
       "      <td>...</td>\n",
       "      <td>...</td>\n",
       "    </tr>\n",
       "    <tr>\n",
       "      <th>4786</th>\n",
       "      <td>4786</td>\n",
       "      <td>كسم we على كسم فودافون كفرتوا الواحد</td>\n",
       "      <td>Cairo, Egypt</td>\n",
       "      <td>2022</td>\n",
       "      <td>3</td>\n",
       "      <td>27</td>\n",
       "    </tr>\n",
       "    <tr>\n",
       "      <th>4787</th>\n",
       "      <td>4787</td>\n",
       "      <td>شنط رمضان 11  رمضان بلا محتاج   للتبرع فودافون...</td>\n",
       "      <td>tanta</td>\n",
       "      <td>2022</td>\n",
       "      <td>3</td>\n",
       "      <td>27</td>\n",
       "    </tr>\n",
       "    <tr>\n",
       "      <th>4788</th>\n",
       "      <td>4788</td>\n",
       "      <td>الخط فودافون و الراوتر فودافون و لما شبكة زفت ...</td>\n",
       "      <td>cairo</td>\n",
       "      <td>2022</td>\n",
       "      <td>3</td>\n",
       "      <td>27</td>\n",
       "    </tr>\n",
       "    <tr>\n",
       "      <th>4789</th>\n",
       "      <td>4789</td>\n",
       "      <td>شركه فودافون شركه حراميه</td>\n",
       "      <td>Banha</td>\n",
       "      <td>2022</td>\n",
       "      <td>3</td>\n",
       "      <td>27</td>\n",
       "    </tr>\n",
       "    <tr>\n",
       "      <th>4790</th>\n",
       "      <td>4790</td>\n",
       "      <td>و عملية برقم 22032pips0 تم استرداد المبلغ الي ...</td>\n",
       "      <td>Cairo, Egypt</td>\n",
       "      <td>2022</td>\n",
       "      <td>3</td>\n",
       "      <td>27</td>\n",
       "    </tr>\n",
       "  </tbody>\n",
       "</table>\n",
       "<p>4791 rows × 6 columns</p>\n",
       "</div>"
      ],
      "text/plain": [
       "      Unnamed: 0                                              Tweet  \\\n",
       "0              0  اللي بينا مايتقدر   عمرو_دياب فودافون httpstco...   \n",
       "1              1  ما بعد فوق قمة الاستهتار والاهمال واللا مبالاة...   \n",
       "2              2  عاجل فضيحة فودافون تتسبب في أزمة بعد تسريب_بيا...   \n",
       "3              3            10700 وحدة    3270105200846858  فودافون   \n",
       "4              4  فودافون   8584575262021929698  250 وحده  85839...   \n",
       "...          ...                                                ...   \n",
       "4786        4786               كسم we على كسم فودافون كفرتوا الواحد   \n",
       "4787        4787  شنط رمضان 11  رمضان بلا محتاج   للتبرع فودافون...   \n",
       "4788        4788  الخط فودافون و الراوتر فودافون و لما شبكة زفت ...   \n",
       "4789        4789                          شركه فودافون شركه حراميه    \n",
       "4790        4790  و عملية برقم 22032pips0 تم استرداد المبلغ الي ...   \n",
       "\n",
       "          Location  year  month  day  \n",
       "0     Cairo, Egypt  2022      4    4  \n",
       "1            Egypt  2022      4    4  \n",
       "2            dokki  2022      4    4  \n",
       "3              مصر  2022      4    3  \n",
       "4              مصر  2022      4    3  \n",
       "...            ...   ...    ...  ...  \n",
       "4786  Cairo, Egypt  2022      3   27  \n",
       "4787        tanta   2022      3   27  \n",
       "4788        cairo   2022      3   27  \n",
       "4789         Banha  2022      3   27  \n",
       "4790  Cairo, Egypt  2022      3   27  \n",
       "\n",
       "[4791 rows x 6 columns]"
      ]
     },
     "execution_count": 1,
     "metadata": {},
     "output_type": "execute_result"
    }
   ],
   "source": [
    "import pandas as pd\n",
    "df = pd.read_csv('C:\\\\Users\\\\moham\\\\Google Drive\\\\NU\\\\Graduation Project\\\\Smart-Customer-Care\\\\Scrapper\\\\Twitter Scrapper\\\\Scrapping results after cleanning.csv', )\n",
    "#df"
   ]
  },
  {
   "cell_type": "code",
   "execution_count": 2,
   "id": "656d239b",
   "metadata": {},
   "outputs": [],
   "source": [
    "from camel_tools.utils.charsets import AR_LETTERS_CHARSET\n",
    "from camel_tools.morphology.database import MorphologyDB\n",
    "from camel_tools.morphology.analyzer import Analyzer\n",
    "from camel_tools.tokenizers.word import simple_word_tokenize\n",
    "from camel_tools.sentiment import SentimentAnalyzer\n",
    "\n",
    "    \n",
    "class Morphological_Analysis():\n",
    "    \n",
    "    \n",
    "    def __init__(self, DF, COL):\n",
    "        self.df = DF\n",
    "        self.col = COL\n",
    "        \n",
    "\n",
    "    def del_nonAR(self):\n",
    "        for rows in self.df[self.col]:\n",
    "            for char in rows:\n",
    "                if char not in AR_LETTERS_CHARSET and char != ' ' :\n",
    "                    self.df[self.col] = self.df[self.col].str.replace(char, '')\n",
    "        return df\n",
    "                    \n",
    "    def get_lex(self):\n",
    "        \n",
    "        db = MorphologyDB.builtin_db('calima-egy-r13')\n",
    "        analyzer = Analyzer(db)\n",
    "        \n",
    "        for rows in df[col]:\n",
    "            sentence = simple_word_tokenize(rows)\n",
    "            lex_sentence = ''\n",
    "            for words in sentence:\n",
    "                try:\n",
    "                    lex_sentence += analyzer.analyze(words)[0]['root'] + ' '\n",
    "                    lex_sentence = lex_sentence.replace('.', '')\n",
    "                except:\n",
    "                    lex_sentence += ' ' + words + ' '\n",
    "            print(lex_sentence)\n",
    "            df[col] = df[col].str.replace(rows, lex_sentence)\n",
    "        return df\n",
    "    \n",
    "    #def del_stopwords(df, col):\n",
    "            \n",
    "class Sentiment_Analysis:\n",
    "    \n",
    "    def __init__(self, DF, COL):\n",
    "        self.df = DF\n",
    "        self.col = CO\n",
    "    \n",
    "    def get_sentiment(self):\n",
    "        sa = SentimentAnalyzer.pretrained()\n",
    "        sentences = []\n",
    "        for rows in self.df[self.col]:\n",
    "            sentences.append(rows)\n",
    "        sentiments = sa.predict(sentences)\n",
    "        self.df['Sentiment'] = sentiments\n",
    "        return df"
   ]
  },
  {
   "cell_type": "markdown",
   "id": "3dba05a4",
   "metadata": {},
   "source": [
    "Removing Non-Arabic Characters"
   ]
  },
  {
   "cell_type": "code",
   "execution_count": null,
   "id": "9a726c56",
   "metadata": {},
   "outputs": [],
   "source": [
    "Morph = Morphological_Analysis(df, 'Tweet')"
   ]
  },
  {
   "cell_type": "code",
   "execution_count": null,
   "id": "0ed49005",
   "metadata": {},
   "outputs": [],
   "source": [
    "Morph.del_nonAR()"
   ]
  },
  {
   "cell_type": "markdown",
   "id": "aebebfdb",
   "metadata": {},
   "source": [
    "Get Words' Root"
   ]
  },
  {
   "cell_type": "code",
   "execution_count": null,
   "id": "061d10fa",
   "metadata": {},
   "outputs": [],
   "source": [
    "#Morph.get_lex(df, 'Tweet')\n",
    "df.fillna(value=\" \", inplace=True)\n",
    "#df"
   ]
  },
  {
   "cell_type": "markdown",
   "id": "5b103c27",
   "metadata": {},
   "source": [
    "Get Sentiments"
   ]
  },
  {
   "cell_type": "code",
   "execution_count": null,
   "id": "7a841a4e",
   "metadata": {},
   "outputs": [],
   "source": [
    "Sent = Sentiment_Analysis\n",
    "Sent.get_sentiment(df, 'Tweet')"
   ]
  },
  {
   "cell_type": "code",
   "execution_count": null,
   "id": "793895ae",
   "metadata": {},
   "outputs": [],
   "source": [
    "df.to_csv('Tweets.csv', index=False)"
   ]
  },
  {
   "cell_type": "code",
   "execution_count": null,
   "id": "39b38607",
   "metadata": {},
   "outputs": [],
   "source": [
    "#df"
   ]
  },
  {
   "cell_type": "code",
   "execution_count": null,
   "id": "cb9c84f4",
   "metadata": {},
   "outputs": [],
   "source": [
    "from camel_tools.disambig.mle import MLEDisambiguator\n",
    "from camel_tools.tagger.default import DefaultTagger\n",
    "\n",
    "mled = MLEDisambiguator.pretrained()\n",
    "tagger = DefaultTagger(mled, 'pos')\n",
    "\n",
    "tagger.tag('و عملية برقم تم استرداد المبلغ الي محفظة فودا'.split())"
   ]
  },
  {
   "cell_type": "code",
   "execution_count": null,
   "id": "ab2efc50",
   "metadata": {},
   "outputs": [],
   "source": [
    "# no. of retweets\n",
    "api.get_status(id).retweet_count"
   ]
  },
  {
   "cell_type": "code",
   "execution_count": null,
   "id": "d4d51711",
   "metadata": {},
   "outputs": [],
   "source": []
  }
 ],
 "metadata": {
  "kernelspec": {
   "display_name": "Python 3 (ipykernel)",
   "language": "python",
   "name": "python3"
  },
  "language_info": {
   "codemirror_mode": {
    "name": "ipython",
    "version": 3
   },
   "file_extension": ".py",
   "mimetype": "text/x-python",
   "name": "python",
   "nbconvert_exporter": "python",
   "pygments_lexer": "ipython3",
   "version": "3.10.2"
  }
 },
 "nbformat": 4,
 "nbformat_minor": 5
}
