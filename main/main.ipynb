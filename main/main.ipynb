{
 "cells": [
  {
   "cell_type": "code",
   "execution_count": 1,
   "metadata": {},
   "outputs": [],
   "source": [
    "from Twitter_Scrapper import Get_Scrapped_Data\n",
    "from Text_Normalization import Text_Normalization\n",
    "from Database_Firebase import Upload_Data"
   ]
  },
  {
   "cell_type": "code",
   "execution_count": 2,
   "metadata": {},
   "outputs": [
    {
     "name": "stderr",
     "output_type": "stream",
     "text": [
      "c:\\Users\\moham\\Google Drive\\NU\\Graduation Project\\Smart-Customer-Care\\main\\Twitter_Scrapper.py:48: FutureWarning: The frame.append method is deprecated and will be removed from pandas in a future version. Use pandas.concat instead.\n",
      "  df = df.append(df_temp)\n",
      "c:\\Users\\moham\\Google Drive\\NU\\Graduation Project\\Smart-Customer-Care\\main\\Twitter_Scrapper.py:48: FutureWarning: The frame.append method is deprecated and will be removed from pandas in a future version. Use pandas.concat instead.\n",
      "  df = df.append(df_temp)\n",
      "c:\\Users\\moham\\Google Drive\\NU\\Graduation Project\\Smart-Customer-Care\\main\\Twitter_Scrapper.py:48: FutureWarning: The frame.append method is deprecated and will be removed from pandas in a future version. Use pandas.concat instead.\n",
      "  df = df.append(df_temp)\n",
      "c:\\Users\\moham\\Google Drive\\NU\\Graduation Project\\Smart-Customer-Care\\main\\Twitter_Scrapper.py:59: FutureWarning: The default value of regex will change from True to False in a future version.\n",
      "  tweet_col = tweet_col.str.replace(r'[^\\w\\s]+', '')\n"
     ]
    }
   ],
   "source": [
    "Upload_Data(Text_Normalization(Get_Scrapped_Data(), 'Tweet'))"
   ]
  },
  {
   "cell_type": "code",
   "execution_count": null,
   "metadata": {},
   "outputs": [],
   "source": []
  }
 ],
 "metadata": {
  "interpreter": {
   "hash": "57c29a733cc17c134094e7fa49d93effdcc1dd61b798bb4d7482e0707c168f5d"
  },
  "kernelspec": {
   "display_name": "Python 3.10.2 64-bit",
   "language": "python",
   "name": "python3"
  },
  "language_info": {
   "codemirror_mode": {
    "name": "ipython",
    "version": 3
   },
   "file_extension": ".py",
   "mimetype": "text/x-python",
   "name": "python",
   "nbconvert_exporter": "python",
   "pygments_lexer": "ipython3",
   "version": "3.10.2"
  },
  "orig_nbformat": 4
 },
 "nbformat": 4,
 "nbformat_minor": 2
}
