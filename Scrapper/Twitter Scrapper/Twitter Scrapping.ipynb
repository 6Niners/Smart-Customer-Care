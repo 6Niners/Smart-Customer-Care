{
 "cells": [
  {
   "cell_type": "code",
   "execution_count": 1,
   "id": "9de9cb03",
   "metadata": {},
   "outputs": [],
   "source": [
    "import tweepy\n",
    "import configparser\n",
    "import pandas as pd\n",
    "import time\n",
    "import datetime "
   ]
  },
  {
   "cell_type": "code",
   "execution_count": 2,
   "id": "ccdc7f5a",
   "metadata": {},
   "outputs": [],
   "source": [
    "def authentication(configfile):\n",
    "    # read configs\n",
    "    config = configparser.ConfigParser()\n",
    "    config.read(configfile)\n",
    "  \n",
    "    api_key = config[\"twitter\"][\"api_key\"]\n",
    "    api_key_secret = config[\"twitter\"][\"api_key_secret\"]\n",
    "\n",
    "    access_token = config[\"twitter\"][\"access_token\"]\n",
    "    access_token_secret = config[\"twitter\"][\"access_token_secret\"]\n",
    "\n",
    "    # authentication\n",
    "    auth = tweepy.OAuth2AppHandler(api_key, api_key_secret)\n",
    "    api = tweepy.API(auth, wait_on_rate_limit=True)\n",
    "    return api"
   ]
  },
  {
   "cell_type": "code",
   "execution_count": 3,
   "id": "5e609d84",
   "metadata": {},
   "outputs": [],
   "source": [
    "def get_data(api, keyword):\n",
    "    \n",
    "    df = pd.DataFrame()\n",
    "    columns = [\"Tweet\",\"Time\",\"Location\"]\n",
    "    data = []\n",
    "    geoc=\"30.033333,31.233334,920km\"\n",
    "    limit = 5000\n",
    "    \n",
    "    keywords_Hashtags = \"#\"+keyword\n",
    "    keywords_account = \"@\"+keyword\n",
    "    \n",
    "    keywords= [keyword,keywords_Hashtags,keywords_account]\n",
    "    \n",
    "    for word in keywords:\n",
    "        tweets = tweepy.Cursor( api.search_tweets,q=word ,count=1000, tweet_mode=\"extended\",lang=\"ar\",geocode=geoc).items(limit)\n",
    "        \n",
    "        # get all tweets text in the user home page timeline and append it in CSV file\n",
    "        for tweet in tweets:\n",
    "            data.append([tweet.full_text,tweet.created_at,tweet.user.location])\n",
    "\n",
    "        #creat DataFrame\n",
    "        df_temp = pd.DataFrame(data, columns=columns)\n",
    "        # append df_temp in main df\n",
    "        df = df.append(df_temp)\n",
    "        df\n",
    "    return df"
   ]
  },
  {
   "cell_type": "code",
   "execution_count": 4,
   "id": "a0822b6f",
   "metadata": {},
   "outputs": [],
   "source": [
    "def replace_New_Line(String):\n",
    "    return String.replace(\"\\n\", \" \")\n",
    "\n",
    "\n",
    "def remove_punc(tweet_col):\n",
    "    #Removing punctuations like . , ! $( ) * % @ from the text\n",
    "    tweet_col = tweet_col.str.replace(r'[^\\w\\s]+', '')\n",
    "    return tweet_col\n",
    "    \n",
    "def extract_date(time_col):\n",
    "\n",
    "    df_temp = pd.DataFrame()\n",
    "    days=[]\n",
    "    #remove the zeros after the time and split the time column to day column\n",
    "    for i in time_col:\n",
    "        days.append(i.date().day)\n",
    "        \n",
    "    df_temp['day']=days\n",
    "    \n",
    "    return df_temp"
   ]
  },
  {
   "cell_type": "code",
   "execution_count": 10,
   "id": "c43bb8d3",
   "metadata": {},
   "outputs": [],
   "source": [
    "def get_day():\n",
    "    # using now() to get current time \n",
    "    current_time = datetime.datetime.now() \n",
    "    return current_time.day\n",
    "\n",
    "def get_df_for_day_before(df):\n",
    "    temp = df[df[\"day\"]== get_day() - 1]\n",
    "    return temp"
   ]
  },
  {
   "cell_type": "code",
   "execution_count": 11,
   "id": "0aaf4514",
   "metadata": {},
   "outputs": [],
   "source": [
    "def main():\n",
    "    api= authentication(\"config.ini\")\n",
    "    df = get_data(api, \"فودافون\")\n",
    "    df[\"Tweet\"] = df[\"Tweet\"].apply(replace_New_Line)\n",
    "    df[\"Tweet\"]= remove_punc(df['Tweet'])\n",
    "    df[\"day\"]= extract_date(df[\"Time\"])\n",
    "    df = df.drop(columns=['Time'])\n",
    "    df = get_df_for_day_before(df)\n",
    "    return df"
   ]
  },
  {
   "cell_type": "code",
   "execution_count": 12,
   "id": "e18da6c5",
   "metadata": {},
   "outputs": [
    {
     "name": "stderr",
     "output_type": "stream",
     "text": [
      "<ipython-input-4-c035ef2a3d70>:7: FutureWarning: The default value of regex will change from True to False in a future version.\n",
      "  tweet_col = tweet_col.str.replace(r'[^\\w\\s]+', '')\n"
     ]
    }
   ],
   "source": [
    "if __name__ == \"__main__\":\n",
    "    df = main()"
   ]
  }
 ],
 "metadata": {
  "kernelspec": {
   "display_name": "Python 3",
   "language": "python",
   "name": "python3"
  },
  "language_info": {
   "codemirror_mode": {
    "name": "ipython",
    "version": 3
   },
   "file_extension": ".py",
   "mimetype": "text/x-python",
   "name": "python",
   "nbconvert_exporter": "python",
   "pygments_lexer": "ipython3",
   "version": "3.8.8"
  }
 },
 "nbformat": 4,
 "nbformat_minor": 5
}
