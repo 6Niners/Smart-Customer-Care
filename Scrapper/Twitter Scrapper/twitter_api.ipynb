{
 "cells": [
  {
   "cell_type": "code",
   "execution_count": 1,
   "id": "c8bda069",
   "metadata": {},
   "outputs": [
    {
     "name": "stdout",
     "output_type": "stream",
     "text": [
      "Requirement already satisfied: tweepy in d:\\anaconda\\lib\\site-packages (4.7.0)\n",
      "Requirement already satisfied: requests<3,>=2.27.0 in d:\\anaconda\\lib\\site-packages (from tweepy) (2.27.1)\n",
      "Requirement already satisfied: oauthlib<4,>=3.2.0 in d:\\anaconda\\lib\\site-packages (from tweepy) (3.2.0)\n",
      "Requirement already satisfied: requests-oauthlib<2,>=1.2.0 in d:\\anaconda\\lib\\site-packages (from tweepy) (1.3.1)\n",
      "Requirement already satisfied: idna<4,>=2.5 in d:\\anaconda\\lib\\site-packages (from requests<3,>=2.27.0->tweepy) (2.10)\n",
      "Requirement already satisfied: certifi>=2017.4.17 in d:\\anaconda\\lib\\site-packages (from requests<3,>=2.27.0->tweepy) (2021.10.8)\n",
      "Requirement already satisfied: urllib3<1.27,>=1.21.1 in d:\\anaconda\\lib\\site-packages (from requests<3,>=2.27.0->tweepy) (1.26.4)\n",
      "Requirement already satisfied: charset-normalizer~=2.0.0 in d:\\anaconda\\lib\\site-packages (from requests<3,>=2.27.0->tweepy) (2.0.12)\n",
      "Note: you may need to restart the kernel to use updated packages.\n"
     ]
    }
   ],
   "source": [
    "pip install tweepy"
   ]
  },
  {
   "cell_type": "code",
   "execution_count": 2,
   "id": "58f22780",
   "metadata": {},
   "outputs": [
    {
     "name": "stdout",
     "output_type": "stream",
     "text": [
      "Requirement already satisfied: configparser in d:\\anaconda\\lib\\site-packages (5.2.0)\n",
      "Note: you may need to restart the kernel to use updated packages.\n"
     ]
    }
   ],
   "source": [
    "pip install configparser"
   ]
  },
  {
   "cell_type": "code",
   "execution_count": 3,
   "id": "c1c00125",
   "metadata": {},
   "outputs": [
    {
     "name": "stdout",
     "output_type": "stream",
     "text": [
      "Requirement already satisfied: pyenchant in d:\\anaconda\\lib\\site-packages (3.2.2)\n",
      "Note: you may need to restart the kernel to use updated packages.\n"
     ]
    }
   ],
   "source": [
    "pip install pyenchant"
   ]
  },
  {
   "cell_type": "code",
   "execution_count": 4,
   "id": "3c8b6cc0",
   "metadata": {},
   "outputs": [],
   "source": [
    "import tweepy\n",
    "import configparser\n",
    "import pandas as pd\n",
    "import time"
   ]
  },
  {
   "cell_type": "code",
   "execution_count": 5,
   "id": "94f249ee",
   "metadata": {},
   "outputs": [],
   "source": [
    "# read configs\n",
    "config = configparser.ConfigParser()\n",
    "config.read(\"config.ini\")\n",
    "\n",
    "api_key = config[\"twitter\"][\"api_key\"]\n",
    "api_key_secret = config[\"twitter\"][\"api_key_secret\"]\n",
    "\n",
    "access_token = config[\"twitter\"][\"access_token\"]\n",
    "access_token_secret = config[\"twitter\"][\"access_token_secret\"]"
   ]
  },
  {
   "cell_type": "code",
   "execution_count": 6,
   "id": "154c38df",
   "metadata": {},
   "outputs": [],
   "source": [
    "# authentication\n",
    "auth = tweepy.OAuth2AppHandler(api_key, api_key_secret)\n",
    "api = tweepy.API(auth, wait_on_rate_limit=True)"
   ]
  },
  {
   "cell_type": "code",
   "execution_count": null,
   "id": "cd4ed437",
   "metadata": {},
   "outputs": [],
   "source": []
  },
  {
   "cell_type": "code",
   "execution_count": 8,
   "id": "fc1a88cb",
   "metadata": {},
   "outputs": [
    {
     "name": "stdout",
     "output_type": "stream",
     "text": [
      "every day\n",
      "                                                 Tweet           Location  \\\n",
      "0    يااأااا نجيب_ساويرس بك ما تشوف لنا شومبونجو دو...              Egypt   \n",
      "1    اسوء تعامل والله هو تعامل الي شغالين في فروع ف...        Egypt,banha   \n",
      "2    اعلانات رمضان رمضان فودافون بنك_مصر قطونيل مدي...  elmahalla alkubra   \n",
      "3    الفرق بين عروض فودافون وعروض اورانج عندي https...              egypt   \n",
      "4    عروض باقات فودافون نت الشهرية لعام 2022  https...        egypt cairo   \n",
      "..                                                 ...                ...   \n",
      "800  Wky_Akyla بعمل سكس فون و كاميرا ب تحويل فودافو...                مصر   \n",
      "801  الطرق دى زحمة دلوقتى تجنبوها  Bey2ollak بيقولك...       Cairo, Egypt   \n",
      "802                     Shady_Emara هبعتلك فودافون كاش              tanta   \n",
      "803  و انا حاجز ف فرع فودافون يا روح امك بقولك هات ...       Cairo, Egypt   \n",
      "804  تحدي_الخير رمضان2022 بإذن الله هنبدأ نجمع لشنط...                  Ⓩ   \n",
      "\n",
      "     year  month  day  \n",
      "0    2022      3   29  \n",
      "1    2022      3   29  \n",
      "2    2022      3   28  \n",
      "3    2022      3   26  \n",
      "4    2022      3   25  \n",
      "..    ...    ...  ...  \n",
      "800  2022      3   21  \n",
      "801  2022      3   21  \n",
      "802  2022      3   21  \n",
      "803  2022      3   21  \n",
      "804  2022      3   21  \n",
      "\n",
      "[805 rows x 5 columns]\n",
      "4025\n"
     ]
    },
    {
     "name": "stderr",
     "output_type": "stream",
     "text": [
      "<ipython-input-8-2fcb1d566def>:61: FutureWarning: The default value of regex will change from True to False in a future version.\n",
      "  df_temp['Tweet'] = df_temp['Tweet'].str.replace(r'[^\\w\\s]+', '')\n"
     ]
    }
   ],
   "source": [
    "columns = [\"Tweet\",\"Time\",\"Location\"]\n",
    "data_Hasht = []\n",
    "data_tweet = []\n",
    "data_acc = []\n",
    "\n",
    "def replaceNewLine(String):\n",
    "    return String.replace(\"\\n\", \" \")\n",
    "\n",
    "# define dataframe with columns .....\n",
    "df = pd.DataFrame()\n",
    "\n",
    "while '1' == '1':\n",
    "    \n",
    "    # My script that should loop here\n",
    "\n",
    "    # search for a Hashtags\n",
    "    keywords_Hashtags = \"#فودافون\"\n",
    "\n",
    "    #search for a tweets\n",
    "    keywords_tweets = \"فودافون\"\n",
    "\n",
    "    #search for an account\n",
    "    keywords_account = \"@فودافون\"\n",
    "    \n",
    "    #search in geographic location\n",
    "    geoc=\"30.033333,31.233334,920km\"\n",
    "\n",
    "    limit = 5000\n",
    "\n",
    "    tweets_Hashtags = tweepy.Cursor( api.search_tweets,q=keywords_Hashtags ,count=1000, tweet_mode=\"extended\",lang=\"ar\",geocode=geoc).items(limit)\n",
    "    tweets_tweets = tweepy.Cursor( api.search_tweets,q=keywords_tweets, count=10000, tweet_mode=\"extended\",lang=\"ar\",geocode=geoc).items(limit)\n",
    "    tweets_account = tweepy.Cursor( api.search_tweets,q=keywords_account, count=10000, tweet_mode=\"extended\",lang=\"ar\",geocode=geoc).items(limit)\n",
    "    print(\"every day\")\n",
    "    \n",
    "    \n",
    "    \n",
    "    # get all tweets text in the user home page timeline and append it in CSV file\n",
    "    \n",
    "    for tweet_Hasht in tweets_Hashtags:\n",
    "        data_Hasht.append([tweet_Hasht.full_text,tweet_Hasht.created_at,tweet_Hasht.user.location])\n",
    "     \n",
    "    for tweet_tweet in tweets_tweets:\n",
    "        data_tweet.append([tweet_tweet.full_text,tweet_tweet.created_at, tweet_tweet.user.location])\n",
    "\n",
    "    for tweet_acc in tweets_account:\n",
    "        data_acc.append([tweet_acc.full_text,tweet_acc.created_at, tweet_acc.user.location])\n",
    "\n",
    "        \n",
    "    #creat DataFrame\n",
    "    df2 = pd.DataFrame(data_Hasht, columns=columns)\n",
    "    df3 = pd.DataFrame(data_tweet, columns=columns)\n",
    "    df4 = pd.DataFrame(data_acc, columns=columns)\n",
    "    \n",
    "    \n",
    "    \n",
    "    frames = [df2, df3,df4]\n",
    "  \n",
    "    df_temp = pd.concat(frames)\n",
    "  \n",
    "    #Removing punctuations like . , ! $( ) * % @ from the text\n",
    "    df_temp['Tweet'] = df_temp['Tweet'].str.replace(r'[^\\w\\s]+', '')\n",
    "    \n",
    "    years=[]\n",
    "    months=[]\n",
    "    days=[]\n",
    "    hours=[]\n",
    "    minuites=[]\n",
    "    #remove the zeros after the time and split the time column to time and date columns\n",
    "    for i in df_temp['Time']:\n",
    "        #hours.append(i.time().hour)\n",
    "        #minuites.append(i.time().min)\n",
    "\n",
    "        years.append(i.date().year)\n",
    "        months.append(i.date().month)\n",
    "        days.append(i.date().day)\n",
    "    \n",
    "    df_temp['year']=years\n",
    "    df_temp['month']=months\n",
    "    df_temp['day']=days\n",
    "    #df_temp['hour']=hours\n",
    "    #df_temp['min']=minuites\n",
    "    \n",
    "    \n",
    "    df_temp = df_temp.drop(columns=['Time'])\n",
    "    \n",
    "    \n",
    "\n",
    "    df_temp[\"Tweet\"] = df_temp[\"Tweet\"].apply(replaceNewLine)\n",
    " \n",
    "    \n",
    "    \n",
    "\n",
    "    # append df_temp in main df\n",
    "    df = df.append(df_temp)\n",
    "    df.reset_index(drop=True, inplace=True)\n",
    "    \n",
    "    df.to_csv(\"Scrapping results after cleanning.csv\",index=False)\n",
    "    \n",
    "    print(df)\n",
    "    print(df.size)\n",
    "    break\n",
    "    time.sleep(90000)\n",
    "    \n",
    "    "
   ]
  },
  {
   "cell_type": "code",
   "execution_count": 9,
   "id": "cd3ece1e",
   "metadata": {},
   "outputs": [
    {
     "name": "stdout",
     "output_type": "stream",
     "text": [
      "<class 'pandas.core.frame.DataFrame'>\n",
      "RangeIndex: 805 entries, 0 to 804\n",
      "Data columns (total 5 columns):\n",
      " #   Column    Non-Null Count  Dtype \n",
      "---  ------    --------------  ----- \n",
      " 0   Tweet     805 non-null    object\n",
      " 1   Location  805 non-null    object\n",
      " 2   year      805 non-null    int64 \n",
      " 3   month     805 non-null    int64 \n",
      " 4   day       805 non-null    int64 \n",
      "dtypes: int64(3), object(2)\n",
      "memory usage: 31.6+ KB\n"
     ]
    }
   ],
   "source": [
    "df.info()"
   ]
  },
  {
   "cell_type": "code",
   "execution_count": null,
   "id": "719f2bce",
   "metadata": {},
   "outputs": [],
   "source": []
  },
  {
   "cell_type": "code",
   "execution_count": null,
   "id": "d9050e57",
   "metadata": {},
   "outputs": [],
   "source": []
  }
 ],
 "metadata": {
  "kernelspec": {
   "display_name": "Python 3",
   "language": "python",
   "name": "python3"
  },
  "language_info": {
   "codemirror_mode": {
    "name": "ipython",
    "version": 3
   },
   "file_extension": ".py",
   "mimetype": "text/x-python",
   "name": "python",
   "nbconvert_exporter": "python",
   "pygments_lexer": "ipython3",
   "version": "3.8.8"
  }
 },
 "nbformat": 4,
 "nbformat_minor": 5
}
