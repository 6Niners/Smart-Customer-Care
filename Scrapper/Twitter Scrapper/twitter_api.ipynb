{
 "cells": [
  {
   "cell_type": "code",
   "execution_count": 1,
   "id": "c8bda069",
   "metadata": {},
   "outputs": [
    {
     "name": "stdout",
     "output_type": "stream",
     "text": [
      "Requirement already satisfied: tweepy in d:\\anaconda\\lib\\site-packages (4.7.0)\n",
      "Requirement already satisfied: requests<3,>=2.27.0 in d:\\anaconda\\lib\\site-packages (from tweepy) (2.27.1)\n",
      "Requirement already satisfied: requests-oauthlib<2,>=1.2.0 in d:\\anaconda\\lib\\site-packages (from tweepy) (1.3.1)\n",
      "Requirement already satisfied: oauthlib<4,>=3.2.0 in d:\\anaconda\\lib\\site-packages (from tweepy) (3.2.0)\n",
      "Requirement already satisfied: certifi>=2017.4.17 in d:\\anaconda\\lib\\site-packages (from requests<3,>=2.27.0->tweepy) (2021.10.8)\n",
      "Requirement already satisfied: idna<4,>=2.5 in d:\\anaconda\\lib\\site-packages (from requests<3,>=2.27.0->tweepy) (2.10)\n",
      "Requirement already satisfied: charset-normalizer~=2.0.0 in d:\\anaconda\\lib\\site-packages (from requests<3,>=2.27.0->tweepy) (2.0.12)\n",
      "Requirement already satisfied: urllib3<1.27,>=1.21.1 in d:\\anaconda\\lib\\site-packages (from requests<3,>=2.27.0->tweepy) (1.26.4)\n",
      "Note: you may need to restart the kernel to use updated packages.\n"
     ]
    }
   ],
   "source": [
    "pip install tweepy"
   ]
  },
  {
   "cell_type": "code",
   "execution_count": 2,
   "id": "58f22780",
   "metadata": {},
   "outputs": [
    {
     "name": "stdout",
     "output_type": "stream",
     "text": [
      "Requirement already satisfied: configparser in d:\\anaconda\\lib\\site-packages (5.2.0)\n",
      "Note: you may need to restart the kernel to use updated packages.\n"
     ]
    }
   ],
   "source": [
    "pip install configparser"
   ]
  },
  {
   "cell_type": "code",
   "execution_count": 3,
   "id": "c1c00125",
   "metadata": {},
   "outputs": [
    {
     "name": "stdout",
     "output_type": "stream",
     "text": [
      "Requirement already satisfied: pyenchant in d:\\anaconda\\lib\\site-packages (3.2.2)\n",
      "Note: you may need to restart the kernel to use updated packages.\n"
     ]
    }
   ],
   "source": [
    "pip install pyenchant"
   ]
  },
  {
   "cell_type": "code",
   "execution_count": 4,
   "id": "3c8b6cc0",
   "metadata": {},
   "outputs": [],
   "source": [
    "import tweepy\n",
    "import configparser\n",
    "import pandas as pd\n",
    "import time"
   ]
  },
  {
   "cell_type": "code",
   "execution_count": 5,
   "id": "94f249ee",
   "metadata": {},
   "outputs": [],
   "source": [
    "# read configs\n",
    "config = configparser.ConfigParser()\n",
    "config.read(\"config.ini\")\n",
    "\n",
    "api_key = config[\"twitter\"][\"api_key\"]\n",
    "api_key_secret = config[\"twitter\"][\"api_key_secret\"]\n",
    "\n",
    "access_token = config[\"twitter\"][\"access_token\"]\n",
    "access_token_secret = config[\"twitter\"][\"access_token_secret\"]"
   ]
  },
  {
   "cell_type": "code",
   "execution_count": 6,
   "id": "154c38df",
   "metadata": {},
   "outputs": [],
   "source": [
    "# authentication\n",
    "auth = tweepy.OAuth2AppHandler(api_key, api_key_secret)\n",
    "api = tweepy.API(auth, wait_on_rate_limit=True)"
   ]
  },
  {
   "cell_type": "code",
   "execution_count": null,
   "id": "cd4ed437",
   "metadata": {},
   "outputs": [],
   "source": []
  },
  {
   "cell_type": "code",
   "execution_count": null,
   "id": "fc1a88cb",
   "metadata": {},
   "outputs": [
    {
     "name": "stdout",
     "output_type": "stream",
     "text": [
      "every day\n"
     ]
    },
    {
     "name": "stderr",
     "output_type": "stream",
     "text": [
      "<ipython-input-7-72cd284f3f24>:61: FutureWarning: The default value of regex will change from True to False in a future version.\n",
      "  df_temp['Tweet'] = df_temp['Tweet'].str.replace(r'[^\\w\\s]+', '')\n"
     ]
    },
    {
     "name": "stdout",
     "output_type": "stream",
     "text": [
      "                                                 Tweet       Location  year  \\\n",
      "0    الفرق بين عروض فودافون وعروض اورانج عندي https...          egypt  2022   \n",
      "1    عروض باقات فودافون نت الشهرية لعام 2022  https...    egypt cairo  2022   \n",
      "2    سعر الراوتر الهوائي من فودافون 2022 بدون خط ار...          Egypt  2022   \n",
      "3    لعملاء فودافون كان في كود بنعمله على الموبايل ...  Cairo , Egypt  2022   \n",
      "4           شحن رصيد من فودافون كاش httpstcoNUNyx3rO5g          Egypt  2022   \n",
      "..                                                 ...            ...   ...   \n",
      "877  MamaduSalah و ممكن تجربة خطوات تنشيط الشبكة من...   Cairo, Egypt  2022   \n",
      "878  MamaduSalah أهلا بيك وشكرا لتواصلك معانا  ممكن...   Cairo, Egypt  2022   \n",
      "879  فودافون بعتالي مبروك كسبت 500 وحده  مش مكفيهم ...           Giza  2022   \n",
      "880  Wky_Akyla Your_healthy_ بعمل سكس فون و كاميرا ...            مصر  2022   \n",
      "881  Abeermo79928238 Your_healthy_ بعمل سكس فون و ك...            مصر  2022   \n",
      "\n",
      "     month  day  \n",
      "0        3   26  \n",
      "1        3   25  \n",
      "2        3   25  \n",
      "3        3   23  \n",
      "4        3   23  \n",
      "..     ...  ...  \n",
      "877      3   18  \n",
      "878      3   18  \n",
      "879      3   18  \n",
      "880      3   18  \n",
      "881      3   18  \n",
      "\n",
      "[882 rows x 5 columns]\n",
      "4410\n"
     ]
    }
   ],
   "source": [
    "columns = [\"Tweet\",\"Time\",\"Location\"]\n",
    "data_Hasht = []\n",
    "data_tweet = []\n",
    "data_acc = []\n",
    "\n",
    "def replaceNewLine(String):\n",
    "    return String.replace(\"\\n\", \" \")\n",
    "\n",
    "# define dataframe with columns .....\n",
    "df = pd.DataFrame()\n",
    "\n",
    "while '1' == '1':\n",
    "    \n",
    "    # My script that should loop here\n",
    "\n",
    "    # search for a Hashtags\n",
    "    keywords_Hashtags = \"#فودافون\"\n",
    "\n",
    "    #search for a tweets\n",
    "    keywords_tweets = \"فودافون\"\n",
    "\n",
    "    #search for an account\n",
    "    keywords_account = \"@فودافون\"\n",
    "    \n",
    "    #search in geographic location\n",
    "    geoc=\"30.033333,31.233334,920km\"\n",
    "\n",
    "    limit = 5000\n",
    "\n",
    "    tweets_Hashtags = tweepy.Cursor( api.search_tweets,q=keywords_Hashtags ,count=1000, tweet_mode=\"extended\",lang=\"ar\",geocode=geoc).items(limit)\n",
    "    tweets_tweets = tweepy.Cursor( api.search_tweets,q=keywords_tweets, count=10000, tweet_mode=\"extended\",lang=\"ar\",geocode=geoc).items(limit)\n",
    "    tweets_account = tweepy.Cursor( api.search_tweets,q=keywords_account, count=10000, tweet_mode=\"extended\",lang=\"ar\",geocode=geoc).items(limit)\n",
    "    print(\"every day\")\n",
    "    \n",
    "    \n",
    "    \n",
    "    # get all tweets text in the user home page timeline and append it in CSV file\n",
    "    \n",
    "    for tweet_Hasht in tweets_Hashtags:\n",
    "        data_Hasht.append([tweet_Hasht.full_text,tweet_Hasht.created_at,tweet_Hasht.user.location])\n",
    "     \n",
    "    for tweet_tweet in tweets_tweets:\n",
    "        data_tweet.append([tweet_tweet.full_text,tweet_tweet.created_at, tweet_tweet.user.location])\n",
    "\n",
    "    for tweet_acc in tweets_account:\n",
    "        data_acc.append([tweet_acc.full_text,tweet_acc.created_at, tweet_acc.user.location])\n",
    "\n",
    "        \n",
    "    #creat DataFrame\n",
    "    df2 = pd.DataFrame(data_Hasht, columns=columns)\n",
    "    df3 = pd.DataFrame(data_tweet, columns=columns)\n",
    "    df4 = pd.DataFrame(data_acc, columns=columns)\n",
    "    \n",
    "    \n",
    "    \n",
    "    frames = [df2, df3,df4]\n",
    "  \n",
    "    df_temp = pd.concat(frames)\n",
    "  \n",
    "    #Removing punctuations like . , ! $( ) * % @ from the text\n",
    "    df_temp['Tweet'] = df_temp['Tweet'].str.replace(r'[^\\w\\s]+', '')\n",
    "    \n",
    "    years=[]\n",
    "    months=[]\n",
    "    days=[]\n",
    "    hours=[]\n",
    "    minuites=[]\n",
    "    #remove the zeros after the time and split the time column to time and date columns\n",
    "    for i in df_temp['Time']:\n",
    "        #hours.append(i.time().hour)\n",
    "        #minuites.append(i.time().min)\n",
    "\n",
    "        years.append(i.date().year)\n",
    "        months.append(i.date().month)\n",
    "        days.append(i.date().day)\n",
    "    \n",
    "    df_temp['year']=years\n",
    "    df_temp['month']=months\n",
    "    df_temp['day']=days\n",
    "    #df_temp['hour']=hours\n",
    "    #df_temp['min']=minuites\n",
    "    \n",
    "    \n",
    "    df_temp = df_temp.drop(columns=['Time'])\n",
    "    \n",
    "    \n",
    "\n",
    "    df_temp[\"Tweet\"] = df_temp[\"Tweet\"].apply(replaceNewLine)\n",
    " \n",
    "    \n",
    "    \n",
    "\n",
    "    # append df_temp in main df\n",
    "    df = df.append(df_temp)\n",
    "    df.reset_index(drop=True, inplace=True)\n",
    "    \n",
    "    df.to_csv(\"Scrapping results after cleanning.csv\")\n",
    "    \n",
    "    print(df)\n",
    "    print(df.size)\n",
    "    time.sleep(90000)"
   ]
  },
  {
   "cell_type": "code",
   "execution_count": null,
   "id": "070d9d88",
   "metadata": {},
   "outputs": [],
   "source": [
    "df"
   ]
  },
  {
   "cell_type": "code",
   "execution_count": null,
   "id": "b5527e5c",
   "metadata": {},
   "outputs": [],
   "source": []
  },
  {
   "cell_type": "code",
   "execution_count": null,
   "id": "08edb398",
   "metadata": {},
   "outputs": [],
   "source": []
  },
  {
   "cell_type": "code",
   "execution_count": null,
   "id": "af9e1303",
   "metadata": {},
   "outputs": [],
   "source": []
  }
 ],
 "metadata": {
  "kernelspec": {
   "display_name": "Python 3",
   "language": "python",
   "name": "python3"
  },
  "language_info": {
   "codemirror_mode": {
    "name": "ipython",
    "version": 3
   },
   "file_extension": ".py",
   "mimetype": "text/x-python",
   "name": "python",
   "nbconvert_exporter": "python",
   "pygments_lexer": "ipython3",
   "version": "3.8.8"
  }
 },
 "nbformat": 4,
 "nbformat_minor": 5
}
