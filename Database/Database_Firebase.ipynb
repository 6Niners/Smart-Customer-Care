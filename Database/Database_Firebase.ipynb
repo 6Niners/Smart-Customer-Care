{
 "cells": [
  {
   "cell_type": "code",
   "execution_count": 1,
   "id": "5e9197d7",
   "metadata": {},
   "outputs": [],
   "source": [
    "import json\n",
    "import pandas as pd\n",
    "import firebase_admin\n",
    "from datetime import datetime\n",
    "from firebase_admin import credentials\n",
    "from firebase_admin import firestore"
   ]
  },
  {
   "cell_type": "code",
   "execution_count": 2,
   "id": "d4be144c",
   "metadata": {},
   "outputs": [],
   "source": [
    "\n",
    "df = pd.read_csv('C:\\\\Users\\\\fmabd\\\\Documents\\\\GitHub\\\\Smart-Customer-Care\\\\Text Normalization\\\\Tweets.csv')"
   ]
  },
  {
   "cell_type": "code",
   "execution_count": 3,
   "id": "a14a10dc",
   "metadata": {},
   "outputs": [
    {
     "name": "stdout",
     "output_type": "stream",
     "text": [
      "<class 'pandas.core.frame.DataFrame'>\n",
      "RangeIndex: 4791 entries, 0 to 4790\n",
      "Data columns (total 7 columns):\n",
      " #   Column      Non-Null Count  Dtype \n",
      "---  ------      --------------  ----- \n",
      " 0   Unnamed: 0  4791 non-null   int64 \n",
      " 1   Tweet       4791 non-null   object\n",
      " 2   Location    4791 non-null   object\n",
      " 3   year        4791 non-null   int64 \n",
      " 4   month       4791 non-null   int64 \n",
      " 5   day         4791 non-null   int64 \n",
      " 6   Sentiment   4791 non-null   object\n",
      "dtypes: int64(4), object(3)\n",
      "memory usage: 262.1+ KB\n"
     ]
    }
   ],
   "source": [
    "#df.dropna(inplace= True)\n",
    "df.info()"
   ]
  },
  {
   "cell_type": "code",
   "execution_count": 4,
   "id": "41271bd3",
   "metadata": {},
   "outputs": [],
   "source": [
    "CredNew = credentials.Certificate('C:\\\\Users\\\\fmabd\\\\Documents\\\\GitHub\\\\Smart-Customer-Care\\\\Database\\\\smartcc-960f7-firebase-adminsdk-ijo0i-27aa89d85e.json')\n",
    "new=firebase_admin.initialize_app(CredNew,name=\"new\")\n",
    "\n",
    "db = firestore.client(new)"
   ]
  },
  {
   "cell_type": "code",
   "execution_count": 5,
   "id": "ee14d8c7",
   "metadata": {},
   "outputs": [],
   "source": [
    "csv= json.loads(json.dumps(df[0:2500].to_dict()))\n",
    "csv2= json.loads(json.dumps(df[2500:].to_dict()))"
   ]
  },
  {
   "cell_type": "code",
   "execution_count": 6,
   "id": "a6423c89",
   "metadata": {},
   "outputs": [],
   "source": [
    "def UploadDate (data1, data2):\n",
    "    now = datetime.now()\n",
    "    now = str(now) \n",
    "    tweets= db.collection(u'Twitter Data').document(now).set(data1)\n",
    "    \n",
    "    now1 = datetime.now()\n",
    "    now1 = str(now1)\n",
    "    tweets1= db.collection(u'Twitter Data').document(now1).set(data2)"
   ]
  },
  {
   "cell_type": "code",
   "execution_count": 7,
   "id": "9c8a6b85",
   "metadata": {},
   "outputs": [],
   "source": [
    "UploadDate(csv,csv2)"
   ]
  },
  {
   "cell_type": "code",
   "execution_count": null,
   "id": "6756c076",
   "metadata": {},
   "outputs": [],
   "source": []
  }
 ],
 "metadata": {
  "kernelspec": {
   "display_name": "Python 3",
   "language": "python",
   "name": "python3"
  },
  "language_info": {
   "codemirror_mode": {
    "name": "ipython",
    "version": 3
   },
   "file_extension": ".py",
   "mimetype": "text/x-python",
   "name": "python",
   "nbconvert_exporter": "python",
   "pygments_lexer": "ipython3",
   "version": "3.8.8"
  }
 },
 "nbformat": 4,
 "nbformat_minor": 5
}
