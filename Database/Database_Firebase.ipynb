{
 "cells": [
  {
   "cell_type": "code",
   "execution_count": null,
   "id": "5e9197d7",
   "metadata": {},
   "outputs": [],
   "source": [
    "import json\n",
    "import pandas as pd\n",
    "import firebase_admin\n",
    "from datetime import date\n",
    "from firebase_admin import credentials\n",
    "from firebase_admin import firestore"
   ]
  },
  {
   "cell_type": "code",
   "execution_count": null,
   "id": "d4be144c",
   "metadata": {},
   "outputs": [],
   "source": [
    "\n",
    "df = pd.read_csv('C:\\\\Users\\\\fmabd\\\\Documents\\\\GitHub\\\\Smart-Customer-Care\\\\Text Normalization\\\\Tweets.csv')"
   ]
  },
  {
   "cell_type": "code",
   "execution_count": null,
   "id": "582279ab",
   "metadata": {},
   "outputs": [],
   "source": [
    "df"
   ]
  },
  {
   "cell_type": "code",
   "execution_count": null,
   "id": "a14a10dc",
   "metadata": {},
   "outputs": [],
   "source": [
    "df.dropna(inplace= True)"
   ]
  },
  {
   "cell_type": "code",
   "execution_count": null,
   "id": "b015ae52",
   "metadata": {},
   "outputs": [],
   "source": [
    "df.info()"
   ]
  },
  {
   "cell_type": "code",
   "execution_count": null,
   "id": "41271bd3",
   "metadata": {},
   "outputs": [],
   "source": [
    "CredNew = credentials.Certificate('C:\\\\Users\\\\fmabd\\\\Documents\\\\GitHub\\\\Smart-Customer-Care\\\\Database\\\\smartcc-960f7-firebase-adminsdk-ijo0i-27aa89d85e.json')\n",
    "new=firebase_admin.initialize_app(CredNew,name=\"new\")\n",
    "\n",
    "db = firestore.client(new)"
   ]
  },
  {
   "cell_type": "code",
   "execution_count": null,
   "id": "ee14d8c7",
   "metadata": {},
   "outputs": [],
   "source": [
    "csv= json.loads(json.dumps(df[0:3000].to_dict()))"
   ]
  },
  {
   "cell_type": "code",
   "execution_count": null,
   "id": "5dd19c26",
   "metadata": {},
   "outputs": [],
   "source": [
    "csv2= json.loads(json.dumps(df[3000:].to_dict()))"
   ]
  },
  {
   "cell_type": "code",
   "execution_count": null,
   "id": "2bade099",
   "metadata": {},
   "outputs": [],
   "source": [
    "\n",
    "\n",
    "# datetime object containing current date and time\n",
    "today = date.today()\n",
    "today= str(now)\n",
    "\n",
    "\n",
    "today1 = date.today()\n",
    "today1= str(1)"
   ]
  },
  {
   "cell_type": "code",
   "execution_count": 5,
   "id": "4a848016",
   "metadata": {},
   "outputs": [],
   "source": [
    "\n",
    "\n",
    "today = date.today()"
   ]
  },
  {
   "cell_type": "code",
   "execution_count": 7,
   "id": "be689bb7",
   "metadata": {},
   "outputs": [
    {
     "name": "stdout",
     "output_type": "stream",
     "text": [
      "2022-04-06\n"
     ]
    }
   ],
   "source": [
    "print(today)"
   ]
  },
  {
   "cell_type": "code",
   "execution_count": null,
   "id": "48735ede",
   "metadata": {},
   "outputs": [],
   "source": [
    "tweets= db.collection(u'test').document(now).set(csv)\n",
    "tweets1= db.collection(u'test').document(now1).set(csv2)"
   ]
  },
  {
   "cell_type": "markdown",
   "id": "7597b44f",
   "metadata": {},
   "source": [
    "# will use these commented codes in upcoming phases # "
   ]
  },
  {
   "cell_type": "code",
   "execution_count": null,
   "id": "b69b0a55",
   "metadata": {},
   "outputs": [],
   "source": [
    "'''\n",
    "DataOld=[]\n",
    "ids=[]\n",
    "all_users_ref_2 = db.collection(u'test').stream()\n",
    "for users in all_users_ref_2:\n",
    "    #print(u'{} => {}'.format(users.id, users.to_dict()))\n",
    "    DataOld.append(users.to_dict())\n",
    "    ids.append(users.id)\n",
    "'''"
   ]
  },
  {
   "cell_type": "code",
   "execution_count": null,
   "id": "16cea982",
   "metadata": {},
   "outputs": [],
   "source": [
    "'''\n",
    "dataNew=[]\n",
    "idsNew=[]\n",
    "all_users_ref_2 = db.collection(u'test').stream()\n",
    "for users in all_users_ref_2:\n",
    "    #print(u'{} => {}'.format(users.id, users.to_dict()))\n",
    "    dataNew.append(users.to_dict())\n",
    "    idsNew.append(users.id)\n",
    "'''"
   ]
  },
  {
   "cell_type": "code",
   "execution_count": null,
   "id": "eb13a9d0",
   "metadata": {},
   "outputs": [],
   "source": [
    "#compare between new data and old one\n",
    "'''\n",
    "for i in range(len(DataOld)):\n",
    "    if DataOld[i] not in dataNew:\n",
    "        db.collection(u'test').document(ids[i]).set(DataOld[i])\n",
    "    else:\n",
    "        print(\"data already exists\")\n",
    "    '''"
   ]
  },
  {
   "cell_type": "code",
   "execution_count": null,
   "id": "be1771a9",
   "metadata": {},
   "outputs": [],
   "source": [
    "#read old data from old firebase account\n",
    "'''\n",
    "# Use a service account\n",
    "CredOld = credentials.Certificate('C:\\\\Users\\\\fmabd\\\\Documents\\\\GitHub\\\\Smart-Customer-Care\\\\Database\\\\smartcc-26e57-85547b8418c0.json')\n",
    "old=firebase_admin.initialize_app(CredOld,name=\"old\")\n",
    "\n",
    "db = firestore.client(old)\n",
    "'''"
   ]
  },
  {
   "cell_type": "code",
   "execution_count": null,
   "id": "91527ae9",
   "metadata": {},
   "outputs": [],
   "source": []
  },
  {
   "cell_type": "code",
   "execution_count": null,
   "id": "1b43fe20",
   "metadata": {},
   "outputs": [],
   "source": [
    "# read full collection in the new account\n",
    "'''\n",
    "\n",
    "database_2 = firestore.client()\n",
    "all_users_ref_2 = database_2.collection(u'test').stream()\n",
    "for users in all_users_ref_2:\n",
    "  print(u'{} => {}'.format(users.id, users.to_dict()))\n",
    "\n",
    "'''"
   ]
  },
  {
   "cell_type": "code",
   "execution_count": null,
   "id": "2343a24d",
   "metadata": {},
   "outputs": [],
   "source": []
  }
 ],
 "metadata": {
  "kernelspec": {
   "display_name": "Python 3 (ipykernel)",
   "language": "python",
   "name": "python3"
  },
  "language_info": {
   "codemirror_mode": {
    "name": "ipython",
    "version": 3
   },
   "file_extension": ".py",
   "mimetype": "text/x-python",
   "name": "python",
   "nbconvert_exporter": "python",
   "pygments_lexer": "ipython3",
   "version": "3.9.6"
  }
 },
 "nbformat": 4,
 "nbformat_minor": 5
}
