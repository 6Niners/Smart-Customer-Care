{
 "cells": [
  {
   "cell_type": "code",
   "execution_count": 1,
   "id": "5e9197d7",
   "metadata": {},
   "outputs": [],
   "source": [
    "import json\n",
    "import pandas as pd\n",
    "import firebase_admin\n",
    "from datetime import date\n",
    "from datetime import datetime\n",
    "from firebase_admin import credentials\n",
    "from firebase_admin import firestore"
   ]
  },
  {
   "cell_type": "code",
   "execution_count": 2,
   "id": "d4be144c",
   "metadata": {},
   "outputs": [],
   "source": [
    "\n",
    "df = pd.read_csv('C:\\\\Users\\\\fmabd\\\\Documents\\\\GitHub\\\\Smart-Customer-Care\\\\Text Normalization\\\\Tweets.csv')"
   ]
  },
  {
   "cell_type": "code",
   "execution_count": 3,
   "id": "a14a10dc",
   "metadata": {},
   "outputs": [],
   "source": [
    "df.dropna(inplace= True)"
   ]
  },
  {
   "cell_type": "code",
   "execution_count": 4,
   "id": "b015ae52",
   "metadata": {},
   "outputs": [
    {
     "name": "stdout",
     "output_type": "stream",
     "text": [
      "<class 'pandas.core.frame.DataFrame'>\n",
      "Int64Index: 4791 entries, 0 to 4790\n",
      "Data columns (total 7 columns):\n",
      " #   Column      Non-Null Count  Dtype \n",
      "---  ------      --------------  ----- \n",
      " 0   Unnamed: 0  4791 non-null   int64 \n",
      " 1   Tweet       4791 non-null   object\n",
      " 2   Location    4791 non-null   object\n",
      " 3   year        4791 non-null   int64 \n",
      " 4   month       4791 non-null   int64 \n",
      " 5   day         4791 non-null   int64 \n",
      " 6   Sentiment   4791 non-null   object\n",
      "dtypes: int64(4), object(3)\n",
      "memory usage: 299.4+ KB\n"
     ]
    }
   ],
   "source": [
    "df.info()"
   ]
  },
  {
   "cell_type": "code",
   "execution_count": 5,
   "id": "41271bd3",
   "metadata": {},
   "outputs": [],
   "source": [
    "CredNew = credentials.Certificate('C:\\\\Users\\\\fmabd\\\\Documents\\\\GitHub\\\\Smart-Customer-Care\\\\Database\\\\smartcc-960f7-firebase-adminsdk-ijo0i-27aa89d85e.json')\n",
    "new=firebase_admin.initialize_app(CredNew,name=\"new\")\n",
    "\n",
    "db = firestore.client(new)"
   ]
  },
  {
   "cell_type": "code",
   "execution_count": 6,
   "id": "ee14d8c7",
   "metadata": {},
   "outputs": [],
   "source": [
    "csv= json.loads(json.dumps(df[0:2000].to_dict()))\n",
    "csv2= json.loads(json.dumps(df[2000:].to_dict()))"
   ]
  },
  {
   "cell_type": "code",
   "execution_count": 8,
   "id": "2bade099",
   "metadata": {},
   "outputs": [],
   "source": [
    "\n",
    "\n",
    "# datetime object containing current date and time\n",
    "\n",
    "today = date.today()\n",
    "today= str(today)\n",
    "\n",
    "today1 = date.today()\n",
    "today1= str(today1)\n"
   ]
  },
  {
   "cell_type": "code",
   "execution_count": null,
   "id": "696a6fb8",
   "metadata": {},
   "outputs": [],
   "source": []
  },
  {
   "cell_type": "code",
   "execution_count": null,
   "id": "9e406fdb",
   "metadata": {},
   "outputs": [],
   "source": []
  },
  {
   "cell_type": "code",
   "execution_count": 9,
   "id": "48735ede",
   "metadata": {},
   "outputs": [],
   "source": [
    "tweets= db.collection(u'test').document(today).set(csv)\n",
    "tweets1= db.collection(u'test').document(today1).set(csv2)"
   ]
  },
  {
   "cell_type": "markdown",
   "id": "7597b44f",
   "metadata": {},
   "source": [
    "# will use these commented codes in upcoming phases # "
   ]
  },
  {
   "cell_type": "code",
   "execution_count": null,
   "id": "b69b0a55",
   "metadata": {},
   "outputs": [],
   "source": [
    "'''\n",
    "DataOld=[]\n",
    "ids=[]\n",
    "all_users_ref_2 = db.collection(u'test').stream()\n",
    "for users in all_users_ref_2:\n",
    "    #print(u'{} => {}'.format(users.id, users.to_dict()))\n",
    "    DataOld.append(users.to_dict())\n",
    "    ids.append(users.id)\n",
    "'''"
   ]
  },
  {
   "cell_type": "code",
   "execution_count": null,
   "id": "16cea982",
   "metadata": {},
   "outputs": [],
   "source": [
    "'''\n",
    "dataNew=[]\n",
    "idsNew=[]\n",
    "all_users_ref_2 = db.collection(u'test').stream()\n",
    "for users in all_users_ref_2:\n",
    "    #print(u'{} => {}'.format(users.id, users.to_dict()))\n",
    "    dataNew.append(users.to_dict())\n",
    "    idsNew.append(users.id)\n",
    "'''"
   ]
  },
  {
   "cell_type": "code",
   "execution_count": null,
   "id": "eb13a9d0",
   "metadata": {},
   "outputs": [],
   "source": [
    "#compare between new data and old one\n",
    "'''\n",
    "for i in range(len(DataOld)):\n",
    "    if DataOld[i] not in dataNew:\n",
    "        db.collection(u'test').document(ids[i]).set(DataOld[i])\n",
    "    else:\n",
    "        print(\"data already exists\")\n",
    "    '''"
   ]
  },
  {
   "cell_type": "code",
   "execution_count": null,
   "id": "be1771a9",
   "metadata": {},
   "outputs": [],
   "source": [
    "#read old data from old firebase account\n",
    "'''\n",
    "# Use a service account\n",
    "CredOld = credentials.Certificate('C:\\\\Users\\\\fmabd\\\\Documents\\\\GitHub\\\\Smart-Customer-Care\\\\Database\\\\smartcc-26e57-85547b8418c0.json')\n",
    "old=firebase_admin.initialize_app(CredOld,name=\"old\")\n",
    "\n",
    "db = firestore.client(old)\n",
    "'''"
   ]
  },
  {
   "cell_type": "code",
   "execution_count": null,
   "id": "91527ae9",
   "metadata": {},
   "outputs": [],
   "source": []
  },
  {
   "cell_type": "code",
   "execution_count": null,
   "id": "1b43fe20",
   "metadata": {},
   "outputs": [],
   "source": [
    "# read full collection in the new account\n",
    "'''\n",
    "\n",
    "database_2 = firestore.client()\n",
    "all_users_ref_2 = database_2.collection(u'test').stream()\n",
    "for users in all_users_ref_2:\n",
    "  print(u'{} => {}'.format(users.id, users.to_dict()))\n",
    "\n",
    "'''"
   ]
  },
  {
   "cell_type": "code",
   "execution_count": null,
   "id": "2343a24d",
   "metadata": {},
   "outputs": [],
   "source": [
    "'''\n",
    "\n",
    "from datetime import datetime\n",
    "\n",
    "# datetime object containing current date and time\n",
    "now = datetime.now()\n",
    "now = str(now) \n",
    "\n",
    "now1 = datetime.now()\n",
    "now1 = str(now1) \n",
    "'''"
   ]
  },
  {
   "cell_type": "code",
   "execution_count": null,
   "id": "4338bf17",
   "metadata": {},
   "outputs": [],
   "source": []
  }
 ],
 "metadata": {
  "kernelspec": {
   "display_name": "Python 3 (ipykernel)",
   "language": "python",
   "name": "python3"
  },
  "language_info": {
   "codemirror_mode": {
    "name": "ipython",
    "version": 3
   },
   "file_extension": ".py",
   "mimetype": "text/x-python",
   "name": "python",
   "nbconvert_exporter": "python",
   "pygments_lexer": "ipython3",
   "version": "3.9.6"
  }
 },
 "nbformat": 4,
 "nbformat_minor": 5
}
