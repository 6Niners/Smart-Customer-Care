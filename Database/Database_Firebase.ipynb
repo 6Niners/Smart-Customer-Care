{
 "cells": [
  {
   "cell_type": "code",
   "execution_count": 1,
   "id": "5e9197d7",
   "metadata": {},
   "outputs": [],
   "source": [
    "import json\n",
    "import pandas as pd\n",
    "import firebase_admin\n",
    "from datetime import datetime\n",
    "from firebase_admin import credentials\n",
    "from firebase_admin import firestore"
   ]
  },
  {
   "cell_type": "code",
   "execution_count": 2,
   "id": "d4be144c",
   "metadata": {},
   "outputs": [],
   "source": [
    "\n",
    "df = pd.read_csv('C:\\\\Users\\\\fmabd\\\\Documents\\\\GitHub\\\\Smart-Customer-Care\\\\Text Normalization\\\\Tweets.csv')"
   ]
  },
  {
   "cell_type": "code",
   "execution_count": 3,
   "id": "582279ab",
   "metadata": {},
   "outputs": [
    {
     "data": {
      "text/html": [
       "<div>\n",
       "<style scoped>\n",
       "    .dataframe tbody tr th:only-of-type {\n",
       "        vertical-align: middle;\n",
       "    }\n",
       "\n",
       "    .dataframe tbody tr th {\n",
       "        vertical-align: top;\n",
       "    }\n",
       "\n",
       "    .dataframe thead th {\n",
       "        text-align: right;\n",
       "    }\n",
       "</style>\n",
       "<table border=\"1\" class=\"dataframe\">\n",
       "  <thead>\n",
       "    <tr style=\"text-align: right;\">\n",
       "      <th></th>\n",
       "      <th>Tweet</th>\n",
       "      <th>Location</th>\n",
       "      <th>year</th>\n",
       "      <th>month</th>\n",
       "      <th>day</th>\n",
       "      <th>Sentiment</th>\n",
       "    </tr>\n",
       "  </thead>\n",
       "  <tbody>\n",
       "    <tr>\n",
       "      <th>0</th>\n",
       "      <td>يااأااا نجيبساويرس بك ما تشوف لنا شومبونجو دول...</td>\n",
       "      <td>Egypt</td>\n",
       "      <td>2022</td>\n",
       "      <td>3</td>\n",
       "      <td>29</td>\n",
       "      <td>negative</td>\n",
       "    </tr>\n",
       "    <tr>\n",
       "      <th>1</th>\n",
       "      <td>اسوء تعامل والله هو تعامل الي شغالين في فروع ف...</td>\n",
       "      <td>Egypt,banha</td>\n",
       "      <td>2022</td>\n",
       "      <td>3</td>\n",
       "      <td>29</td>\n",
       "      <td>negative</td>\n",
       "    </tr>\n",
       "    <tr>\n",
       "      <th>2</th>\n",
       "      <td>اعلانات رمضان رمضان فودافون بنكمصر قطونيل مدينتي</td>\n",
       "      <td>elmahalla alkubra</td>\n",
       "      <td>2022</td>\n",
       "      <td>3</td>\n",
       "      <td>28</td>\n",
       "      <td>neutral</td>\n",
       "    </tr>\n",
       "    <tr>\n",
       "      <th>3</th>\n",
       "      <td>الفرق بين عروض فودافون وعروض اورانج عندي</td>\n",
       "      <td>egypt</td>\n",
       "      <td>2022</td>\n",
       "      <td>3</td>\n",
       "      <td>26</td>\n",
       "      <td>neutral</td>\n",
       "    </tr>\n",
       "    <tr>\n",
       "      <th>4</th>\n",
       "      <td>عروض باقات فودافون نت الشهرية لعام</td>\n",
       "      <td>egypt cairo</td>\n",
       "      <td>2022</td>\n",
       "      <td>3</td>\n",
       "      <td>25</td>\n",
       "      <td>neutral</td>\n",
       "    </tr>\n",
       "    <tr>\n",
       "      <th>...</th>\n",
       "      <td>...</td>\n",
       "      <td>...</td>\n",
       "      <td>...</td>\n",
       "      <td>...</td>\n",
       "      <td>...</td>\n",
       "      <td>...</td>\n",
       "    </tr>\n",
       "    <tr>\n",
       "      <th>800</th>\n",
       "      <td>بعمل سكس فون و كاميرا ب تحويل فودافون كاش</td>\n",
       "      <td>مصر</td>\n",
       "      <td>2022</td>\n",
       "      <td>3</td>\n",
       "      <td>21</td>\n",
       "      <td>neutral</td>\n",
       "    </tr>\n",
       "    <tr>\n",
       "      <th>801</th>\n",
       "      <td>الطرق دى زحمة دلوقتى تجنبوها   بيقولك  اشترك ف...</td>\n",
       "      <td>Cairo, Egypt</td>\n",
       "      <td>2022</td>\n",
       "      <td>3</td>\n",
       "      <td>21</td>\n",
       "      <td>neutral</td>\n",
       "    </tr>\n",
       "    <tr>\n",
       "      <th>802</th>\n",
       "      <td>هبعتلك فودافون كاش</td>\n",
       "      <td>tanta</td>\n",
       "      <td>2022</td>\n",
       "      <td>3</td>\n",
       "      <td>21</td>\n",
       "      <td>negative</td>\n",
       "    </tr>\n",
       "    <tr>\n",
       "      <th>803</th>\n",
       "      <td>و انا حاجز ف فرع فودافون يا روح امك بقولك هات ...</td>\n",
       "      <td>Cairo, Egypt</td>\n",
       "      <td>2022</td>\n",
       "      <td>3</td>\n",
       "      <td>21</td>\n",
       "      <td>negative</td>\n",
       "    </tr>\n",
       "    <tr>\n",
       "      <th>804</th>\n",
       "      <td>تحديالخير رمضان بإذن الله هنبدأ نجمع لشنط رمضا...</td>\n",
       "      <td>Ⓩ</td>\n",
       "      <td>2022</td>\n",
       "      <td>3</td>\n",
       "      <td>21</td>\n",
       "      <td>neutral</td>\n",
       "    </tr>\n",
       "  </tbody>\n",
       "</table>\n",
       "<p>805 rows × 6 columns</p>\n",
       "</div>"
      ],
      "text/plain": [
       "                                                 Tweet           Location  \\\n",
       "0    يااأااا نجيبساويرس بك ما تشوف لنا شومبونجو دول...              Egypt   \n",
       "1    اسوء تعامل والله هو تعامل الي شغالين في فروع ف...        Egypt,banha   \n",
       "2    اعلانات رمضان رمضان فودافون بنكمصر قطونيل مدينتي   elmahalla alkubra   \n",
       "3            الفرق بين عروض فودافون وعروض اورانج عندي               egypt   \n",
       "4                عروض باقات فودافون نت الشهرية لعام           egypt cairo   \n",
       "..                                                 ...                ...   \n",
       "800          بعمل سكس فون و كاميرا ب تحويل فودافون كاش                مصر   \n",
       "801  الطرق دى زحمة دلوقتى تجنبوها   بيقولك  اشترك ف...       Cairo, Egypt   \n",
       "802                                 هبعتلك فودافون كاش              tanta   \n",
       "803  و انا حاجز ف فرع فودافون يا روح امك بقولك هات ...       Cairo, Egypt   \n",
       "804  تحديالخير رمضان بإذن الله هنبدأ نجمع لشنط رمضا...                  Ⓩ   \n",
       "\n",
       "     year  month  day Sentiment  \n",
       "0    2022      3   29  negative  \n",
       "1    2022      3   29  negative  \n",
       "2    2022      3   28   neutral  \n",
       "3    2022      3   26   neutral  \n",
       "4    2022      3   25   neutral  \n",
       "..    ...    ...  ...       ...  \n",
       "800  2022      3   21   neutral  \n",
       "801  2022      3   21   neutral  \n",
       "802  2022      3   21  negative  \n",
       "803  2022      3   21  negative  \n",
       "804  2022      3   21   neutral  \n",
       "\n",
       "[805 rows x 6 columns]"
      ]
     },
     "execution_count": 3,
     "metadata": {},
     "output_type": "execute_result"
    }
   ],
   "source": [
    "df"
   ]
  },
  {
   "cell_type": "code",
   "execution_count": null,
   "id": "a14a10dc",
   "metadata": {},
   "outputs": [],
   "source": []
  },
  {
   "cell_type": "code",
   "execution_count": 4,
   "id": "b015ae52",
   "metadata": {},
   "outputs": [
    {
     "name": "stdout",
     "output_type": "stream",
     "text": [
      "<class 'pandas.core.frame.DataFrame'>\n",
      "RangeIndex: 805 entries, 0 to 804\n",
      "Data columns (total 6 columns):\n",
      " #   Column     Non-Null Count  Dtype \n",
      "---  ------     --------------  ----- \n",
      " 0   Tweet      805 non-null    object\n",
      " 1   Location   793 non-null    object\n",
      " 2   year       805 non-null    int64 \n",
      " 3   month      805 non-null    int64 \n",
      " 4   day        805 non-null    int64 \n",
      " 5   Sentiment  805 non-null    object\n",
      "dtypes: int64(3), object(3)\n",
      "memory usage: 37.9+ KB\n"
     ]
    }
   ],
   "source": [
    "df.info()"
   ]
  },
  {
   "cell_type": "code",
   "execution_count": 5,
   "id": "be1771a9",
   "metadata": {},
   "outputs": [],
   "source": [
    "\n",
    "'''\n",
    "# Use a service account\n",
    "CredOld = credentials.Certificate('C:\\\\Users\\\\fmabd\\\\Documents\\\\GitHub\\\\Smart-Customer-Care\\\\Database\\\\smartcc-26e57-85547b8418c0.json')\n",
    "old=firebase_admin.initialize_app(CredOld,name=\"old\")\n",
    "\n",
    "db = firestore.client(old)\n",
    "'''"
   ]
  },
  {
   "cell_type": "code",
   "execution_count": 6,
   "id": "b69b0a55",
   "metadata": {},
   "outputs": [],
   "source": [
    "'''\n",
    "DataOld=[]\n",
    "ids=[]\n",
    "all_users_ref_2 = db.collection(u'test').stream()\n",
    "for users in all_users_ref_2:\n",
    "    #print(u'{} => {}'.format(users.id, users.to_dict()))\n",
    "    DataOld.append(users.to_dict())\n",
    "    ids.append(users.id)\n",
    "'''"
   ]
  },
  {
   "cell_type": "code",
   "execution_count": 7,
   "id": "41271bd3",
   "metadata": {},
   "outputs": [],
   "source": [
    "CredNew = credentials.Certificate('C:\\\\Users\\\\fmabd\\\\Documents\\\\GitHub\\\\Smart-Customer-Care\\\\Database\\\\smartcc-960f7-firebase-adminsdk-ijo0i-27aa89d85e.json')\n",
    "new=firebase_admin.initialize_app(CredNew,name=\"new\")\n",
    "\n",
    "db = firestore.client(new)"
   ]
  },
  {
   "cell_type": "code",
   "execution_count": 8,
   "id": "16cea982",
   "metadata": {},
   "outputs": [],
   "source": [
    "'''\n",
    "dataNew=[]\n",
    "idsNew=[]\n",
    "all_users_ref_2 = db.collection(u'test').stream()\n",
    "for users in all_users_ref_2:\n",
    "    #print(u'{} => {}'.format(users.id, users.to_dict()))\n",
    "    dataNew.append(users.to_dict())\n",
    "    idsNew.append(users.id)\n",
    "'''"
   ]
  },
  {
   "cell_type": "code",
   "execution_count": 9,
   "id": "eb13a9d0",
   "metadata": {},
   "outputs": [
    {
     "name": "stdout",
     "output_type": "stream",
     "text": [
      "data already exists\n",
      "data already exists\n"
     ]
    }
   ],
   "source": [
    "#compare between new data and old one\n",
    "'''\n",
    "for i in range(len(DataOld)):\n",
    "    if DataOld[i] not in dataNew:\n",
    "        db.collection(u'test').document(ids[i]).set(DataOld[i])\n",
    "    else:\n",
    "        print(\"data already exists\")\n",
    "    '''"
   ]
  },
  {
   "cell_type": "code",
   "execution_count": 10,
   "id": "ee14d8c7",
   "metadata": {},
   "outputs": [],
   "source": [
    "csv= json.loads(json.dumps(df.to_dict()))"
   ]
  },
  {
   "cell_type": "code",
   "execution_count": 11,
   "id": "2bade099",
   "metadata": {},
   "outputs": [],
   "source": [
    "\n",
    "\n",
    "# datetime object containing current date and time\n",
    "now = datetime.now()\n",
    "now= str(now)\n"
   ]
  },
  {
   "cell_type": "code",
   "execution_count": 12,
   "id": "48735ede",
   "metadata": {},
   "outputs": [],
   "source": [
    "tweets= db.collection(u'test').document(now).set(csv)"
   ]
  },
  {
   "cell_type": "code",
   "execution_count": null,
   "id": "91527ae9",
   "metadata": {},
   "outputs": [],
   "source": []
  },
  {
   "cell_type": "code",
   "execution_count": 13,
   "id": "1b43fe20",
   "metadata": {},
   "outputs": [
    {
     "data": {
      "text/plain": [
       "\"\\n\\ndatabase_2 = firestore.client()\\nall_users_ref_2 = database_2.collection(u'test').stream()\\nfor users in all_users_ref_2:\\n  print(u'{} => {}'.format(users.id, users.to_dict()))\\n\\n\""
      ]
     },
     "execution_count": 13,
     "metadata": {},
     "output_type": "execute_result"
    }
   ],
   "source": [
    "# read full collection\n",
    "'''\n",
    "\n",
    "database_2 = firestore.client()\n",
    "all_users_ref_2 = database_2.collection(u'test').stream()\n",
    "for users in all_users_ref_2:\n",
    "  print(u'{} => {}'.format(users.id, users.to_dict()))\n",
    "\n",
    "'''"
   ]
  },
  {
   "cell_type": "code",
   "execution_count": null,
   "id": "2343a24d",
   "metadata": {},
   "outputs": [],
   "source": []
  }
 ],
 "metadata": {
  "kernelspec": {
   "display_name": "Python 3 (ipykernel)",
   "language": "python",
   "name": "python3"
  },
  "language_info": {
   "codemirror_mode": {
    "name": "ipython",
    "version": 3
   },
   "file_extension": ".py",
   "mimetype": "text/x-python",
   "name": "python",
   "nbconvert_exporter": "python",
   "pygments_lexer": "ipython3",
   "version": "3.9.6"
  }
 },
 "nbformat": 4,
 "nbformat_minor": 5
}
