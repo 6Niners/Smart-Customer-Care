{
 "cells": [
  {
   "cell_type": "code",
   "execution_count": 2,
   "id": "5e9197d7",
   "metadata": {},
   "outputs": [],
   "source": [
    "import json\n",
    "import pandas as pd\n",
    "import firebase_admin\n",
    "from datetime import datetime, timedelta\n",
    "from firebase_admin import credentials\n",
    "from firebase_admin import firestore"
   ]
  },
  {
   "cell_type": "code",
   "execution_count": 17,
   "id": "d4be144c",
   "metadata": {},
   "outputs": [
    {
     "data": {
      "text/html": [
       "<div>\n",
       "<style scoped>\n",
       "    .dataframe tbody tr th:only-of-type {\n",
       "        vertical-align: middle;\n",
       "    }\n",
       "\n",
       "    .dataframe tbody tr th {\n",
       "        vertical-align: top;\n",
       "    }\n",
       "\n",
       "    .dataframe thead th {\n",
       "        text-align: right;\n",
       "    }\n",
       "</style>\n",
       "<table border=\"1\" class=\"dataframe\">\n",
       "  <thead>\n",
       "    <tr style=\"text-align: right;\">\n",
       "      <th></th>\n",
       "      <th>Unnamed: 0</th>\n",
       "      <th>Tweet</th>\n",
       "      <th>Location</th>\n",
       "      <th>year</th>\n",
       "      <th>month</th>\n",
       "      <th>day</th>\n",
       "      <th>Sentiment</th>\n",
       "    </tr>\n",
       "  </thead>\n",
       "  <tbody>\n",
       "    <tr>\n",
       "      <th>0</th>\n",
       "      <td>0</td>\n",
       "      <td>اللي بينا مايتقدر   عمرودياب فودافون</td>\n",
       "      <td>Cairo, Egypt</td>\n",
       "      <td>2022</td>\n",
       "      <td>4</td>\n",
       "      <td>4</td>\n",
       "      <td>negative</td>\n",
       "    </tr>\n",
       "    <tr>\n",
       "      <th>1</th>\n",
       "      <td>1</td>\n",
       "      <td>ما بعد فوق قمة الاستهتار والاهمال واللا مبالاة...</td>\n",
       "      <td>Egypt</td>\n",
       "      <td>2022</td>\n",
       "      <td>4</td>\n",
       "      <td>4</td>\n",
       "      <td>negative</td>\n",
       "    </tr>\n",
       "    <tr>\n",
       "      <th>2</th>\n",
       "      <td>2</td>\n",
       "      <td>عاجل فضيحة فودافون تتسبب في أزمة بعد تسريببيان...</td>\n",
       "      <td>dokki</td>\n",
       "      <td>2022</td>\n",
       "      <td>4</td>\n",
       "      <td>4</td>\n",
       "      <td>negative</td>\n",
       "    </tr>\n",
       "    <tr>\n",
       "      <th>3</th>\n",
       "      <td>3</td>\n",
       "      <td>وحدة      فودافون</td>\n",
       "      <td>مصر</td>\n",
       "      <td>2022</td>\n",
       "      <td>4</td>\n",
       "      <td>3</td>\n",
       "      <td>neutral</td>\n",
       "    </tr>\n",
       "    <tr>\n",
       "      <th>4</th>\n",
       "      <td>4</td>\n",
       "      <td>فودافون      وحده     وحده      وحده     وحده ...</td>\n",
       "      <td>مصر</td>\n",
       "      <td>2022</td>\n",
       "      <td>4</td>\n",
       "      <td>3</td>\n",
       "      <td>positive</td>\n",
       "    </tr>\n",
       "  </tbody>\n",
       "</table>\n",
       "</div>"
      ],
      "text/plain": [
       "   Unnamed: 0                                              Tweet  \\\n",
       "0           0              اللي بينا مايتقدر   عمرودياب فودافون    \n",
       "1           1  ما بعد فوق قمة الاستهتار والاهمال واللا مبالاة...   \n",
       "2           2  عاجل فضيحة فودافون تتسبب في أزمة بعد تسريببيان...   \n",
       "3           3                                  وحدة      فودافون   \n",
       "4           4  فودافون      وحده     وحده      وحده     وحده ...   \n",
       "\n",
       "       Location  year  month  day Sentiment  \n",
       "0  Cairo, Egypt  2022      4    4  negative  \n",
       "1         Egypt  2022      4    4  negative  \n",
       "2         dokki  2022      4    4  negative  \n",
       "3           مصر  2022      4    3   neutral  \n",
       "4           مصر  2022      4    3  positive  "
      ]
     },
     "execution_count": 17,
     "metadata": {},
     "output_type": "execute_result"
    }
   ],
   "source": [
    "\n",
    "df = pd.read_csv(\"../Text Normalization/Tweets.csv\")\n",
    "df = df[0:500]\n",
    "\n",
    "df.head()"
   ]
  },
  {
   "cell_type": "code",
   "execution_count": 18,
   "id": "a14a10dc",
   "metadata": {},
   "outputs": [
    {
     "name": "stdout",
     "output_type": "stream",
     "text": [
      "<class 'pandas.core.frame.DataFrame'>\n",
      "RangeIndex: 500 entries, 0 to 499\n",
      "Data columns (total 7 columns):\n",
      " #   Column      Non-Null Count  Dtype \n",
      "---  ------      --------------  ----- \n",
      " 0   Unnamed: 0  500 non-null    int64 \n",
      " 1   Tweet       500 non-null    object\n",
      " 2   Location    500 non-null    object\n",
      " 3   year        500 non-null    int64 \n",
      " 4   month       500 non-null    int64 \n",
      " 5   day         500 non-null    int64 \n",
      " 6   Sentiment   500 non-null    object\n",
      "dtypes: int64(4), object(3)\n",
      "memory usage: 27.5+ KB\n"
     ]
    }
   ],
   "source": [
    "#df.dropna(inplace= True)\n",
    "df.info()"
   ]
  },
  {
   "cell_type": "code",
   "execution_count": 4,
   "id": "41271bd3",
   "metadata": {},
   "outputs": [],
   "source": [
    "CredNew = credentials.Certificate('./smartcc-960f7-firebase-adminsdk-ijo0i-27aa89d85e.json')\n",
    "new = firebase_admin.initialize_app(CredNew,name=\"new\")\n",
    "\n",
    "db = firestore.client(new)"
   ]
  },
  {
   "cell_type": "code",
   "execution_count": 5,
   "id": "ee14d8c7",
   "metadata": {},
   "outputs": [
    {
     "name": "stdout",
     "output_type": "stream",
     "text": [
      "500\n"
     ]
    }
   ],
   "source": [
    "print(df.shape[0])"
   ]
  },
  {
   "cell_type": "code",
   "execution_count": 25,
   "id": "a6423c89",
   "metadata": {},
   "outputs": [],
   "source": [
    "def getPastDateAndTime(daysBefore):\n",
    "    currentDate = str(datetime.now() - timedelta(days = daysBefore)) \n",
    "    splitDateList = currentDate.split(\" \")\n",
    "    dateOnly = splitDateList[0]\n",
    "    timeOnly = splitDateList[1].split(\".\")[0]\n",
    "    dateWithTime = dateOnly + \" \" + timeOnly\n",
    "\n",
    "    return [dateOnly, dateWithTime]\n",
    "\n",
    "\n",
    "\n",
    "def uploadDataToFirebase (collectionName, searchKeyword, df, dataLimit):\n",
    "    dfLength = df.shape[0]\n",
    "    iterationCount = 1\n",
    "    minLimit = 0\n",
    "    maxLimit = None\n",
    "    \n",
    "    if (dfLength > dataLimit):\n",
    "        iterationCount = int(dfLength / dataLimit) + 1\n",
    "\n",
    "    for i in range(0, iterationCount):\n",
    "        firebaseData = {}\n",
    "        \n",
    "        if (iterationCount == 1):\n",
    "            firebaseData = json.loads(json.dumps(df[0:].to_dict()))\n",
    "        else:\n",
    "            if (i == (iterationCount - 1)):\n",
    "                maxLimit = None\n",
    "            else:\n",
    "                maxLimit = dataLimit * (i + 1)\n",
    "                \n",
    "            minLimit = dataLimit * i \n",
    "\n",
    "            firebaseData = json.loads(json.dumps(df[minLimit:maxLimit].to_dict()))\n",
    "            \n",
    "        currentDate, currentDateAndTime = getPastDateAndTime(1)\n",
    "        \n",
    "        db.collection(collectionName).document(searchKeyword).collection(currentDate).document(currentDateAndTime).set(firebaseData)\n",
    "\n",
    "    "
   ]
  },
  {
   "cell_type": "code",
   "execution_count": 26,
   "id": "9c8a6b85",
   "metadata": {},
   "outputs": [
    {
     "name": "stdout",
     "output_type": "stream",
     "text": [
      "1\n"
     ]
    }
   ],
   "source": [
    "uploadDataToFirebase(\"test4\", \"فودافون\", df, 2500)"
   ]
  },
  {
   "cell_type": "code",
   "execution_count": null,
   "id": "179c8ffa",
   "metadata": {},
   "outputs": [],
   "source": []
  }
 ],
 "metadata": {
  "kernelspec": {
   "display_name": "Python 3 (ipykernel)",
   "language": "python",
   "name": "python3"
  },
  "language_info": {
   "codemirror_mode": {
    "name": "ipython",
    "version": 3
   },
   "file_extension": ".py",
   "mimetype": "text/x-python",
   "name": "python",
   "nbconvert_exporter": "python",
   "pygments_lexer": "ipython3",
   "version": "3.8.13"
  }
 },
 "nbformat": 4,
 "nbformat_minor": 5
}
