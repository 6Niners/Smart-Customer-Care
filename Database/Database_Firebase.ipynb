{
 "cells": [
  {
   "cell_type": "code",
   "execution_count": 23,
   "id": "5e9197d7",
   "metadata": {},
   "outputs": [],
   "source": [
    "import json\n",
    "import pandas as pd\n",
    "import firebase_admin\n",
    "from datetime import datetime, timedelta\n",
    "from firebase_admin import credentials\n",
    "from firebase_admin import firestore"
   ]
  },
  {
   "cell_type": "code",
   "execution_count": 24,
   "id": "d4be144c",
   "metadata": {},
   "outputs": [],
   "source": [
    "\n",
    "df = pd.read_csv(\"../Text Normalization/Tweets.csv\")"
   ]
  },
  {
   "cell_type": "code",
   "execution_count": 25,
   "id": "a14a10dc",
   "metadata": {},
   "outputs": [
    {
     "name": "stdout",
     "output_type": "stream",
     "text": [
      "<class 'pandas.core.frame.DataFrame'>\n",
      "RangeIndex: 4791 entries, 0 to 4790\n",
      "Data columns (total 7 columns):\n",
      " #   Column      Non-Null Count  Dtype \n",
      "---  ------      --------------  ----- \n",
      " 0   Unnamed: 0  4791 non-null   int64 \n",
      " 1   Tweet       4791 non-null   object\n",
      " 2   Location    4791 non-null   object\n",
      " 3   year        4791 non-null   int64 \n",
      " 4   month       4791 non-null   int64 \n",
      " 5   day         4791 non-null   int64 \n",
      " 6   Sentiment   4791 non-null   object\n",
      "dtypes: int64(4), object(3)\n",
      "memory usage: 262.1+ KB\n"
     ]
    }
   ],
   "source": [
    "#df.dropna(inplace= True)\n",
    "df.info()"
   ]
  },
  {
   "cell_type": "code",
   "execution_count": null,
   "id": "41271bd3",
   "metadata": {},
   "outputs": [],
   "source": [
    "CredNew = credentials.Certificate('./smartcc-960f7-firebase-adminsdk-ijo0i-27aa89d85e.json')\n",
    "new = firebase_admin.initialize_app(CredNew,name=\"new\")\n",
    "\n",
    "db = firestore.client(new)"
   ]
  },
  {
   "cell_type": "code",
   "execution_count": null,
   "id": "ee14d8c7",
   "metadata": {},
   "outputs": [
    {
     "name": "stdout",
     "output_type": "stream",
     "text": [
      "4791\n"
     ]
    }
   ],
   "source": [
    "print(df.shape[0])"
   ]
  },
  {
   "cell_type": "code",
   "execution_count": 82,
   "id": "a6423c89",
   "metadata": {},
   "outputs": [],
   "source": [
    "def getPastDateAndTime(daysBefore):\n",
    "    currentDate = str(datetime.now() - timedelta(days = daysBefore)) \n",
    "    splitDateList = currentDate.split(\" \")\n",
    "    dateOnly = splitDateList[0]\n",
    "    timeOnly = splitDateList[1].split(\".\")[0]\n",
    "    dateWithTime = dateOnly + \" \" + timeOnly\n",
    "\n",
    "    return [dateOnly, dateWithTime]\n",
    "\n",
    "\n",
    "\n",
    "\n",
    "def uploadDataToFirebase (collectionName, searchKeyword, df, dataLimit):\n",
    "    dfLength = df.shape[0]\n",
    "    iterationCount = 0\n",
    "    minLimit = 0\n",
    "    maxLimit = None\n",
    "    \n",
    "    if (dfLength > dataLimit):\n",
    "        iterationCount = int(dfLength / dataLimit) + 1\n",
    "\n",
    "    for i in range(0, iterationCount):\n",
    "\n",
    "        if (iterationCount == 1):\n",
    "            firebaseData = json.loads(json.dumps(df[0:maxLimit].to_dict()))\n",
    "        else:\n",
    "            if (i == (iterationCount - 1)):\n",
    "                maxLimit = None\n",
    "            else:\n",
    "                maxLimit = dataLimit * (i + 1)\n",
    "                \n",
    "            minLimit = dataLimit * i \n",
    "\n",
    "        firebaseData = json.loads(json.dumps(df[minLimit:maxLimit].to_dict()))\n",
    "        currentDate, currentDateAndTime = getPastDateAndTime(1)\n",
    "        \n",
    "        db.collection(collectionName).document(searchKeyword).collection(currentDate).document(currentDateAndTime).set(firebaseData)\n",
    "\n",
    "    "
   ]
  },
  {
   "cell_type": "code",
   "execution_count": 85,
   "id": "9c8a6b85",
   "metadata": {},
   "outputs": [],
   "source": [
    "uploadDataToFirebase(\"test3\", \"فودافون\", df, 2500)"
   ]
  },
  {
   "cell_type": "code",
   "execution_count": null,
   "id": "179c8ffa",
   "metadata": {},
   "outputs": [],
   "source": []
  }
 ],
 "metadata": {
  "kernelspec": {
   "display_name": "Python 3 (ipykernel)",
   "language": "python",
   "name": "python3"
  },
  "language_info": {
   "codemirror_mode": {
    "name": "ipython",
    "version": 3
   },
   "file_extension": ".py",
   "mimetype": "text/x-python",
   "name": "python",
   "nbconvert_exporter": "python",
   "pygments_lexer": "ipython3",
   "version": "3.8.13"
  }
 },
 "nbformat": 4,
 "nbformat_minor": 5
}
