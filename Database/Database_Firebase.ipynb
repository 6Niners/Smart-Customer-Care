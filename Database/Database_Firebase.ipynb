{
 "cells": [
  {
   "cell_type": "code",
   "execution_count": 1,
   "id": "5e9197d7",
   "metadata": {},
   "outputs": [],
   "source": [
    "import json\n",
    "import pandas as pd\n",
    "import firebase_admin\n",
    "from datetime import datetime\n",
    "from firebase_admin import credentials\n",
    "from firebase_admin import firestore"
   ]
  },
  {
   "cell_type": "code",
   "execution_count": 2,
   "id": "d4be144c",
   "metadata": {},
   "outputs": [],
   "source": [
    "\n",
    "df = pd.read_csv('C:\\\\Users\\\\fmabd\\\\Documents\\\\GitHub\\\\Smart-Customer-Care\\\\Text Normalization\\\\Tweets.csv')"
   ]
  },
  {
   "cell_type": "code",
   "execution_count": 3,
   "id": "582279ab",
   "metadata": {},
   "outputs": [
    {
     "data": {
      "text/html": [
       "<div>\n",
       "<style scoped>\n",
       "    .dataframe tbody tr th:only-of-type {\n",
       "        vertical-align: middle;\n",
       "    }\n",
       "\n",
       "    .dataframe tbody tr th {\n",
       "        vertical-align: top;\n",
       "    }\n",
       "\n",
       "    .dataframe thead th {\n",
       "        text-align: right;\n",
       "    }\n",
       "</style>\n",
       "<table border=\"1\" class=\"dataframe\">\n",
       "  <thead>\n",
       "    <tr style=\"text-align: right;\">\n",
       "      <th></th>\n",
       "      <th>Tweet</th>\n",
       "      <th>Location</th>\n",
       "      <th>year</th>\n",
       "      <th>month</th>\n",
       "      <th>day</th>\n",
       "      <th>Sentiment</th>\n",
       "    </tr>\n",
       "  </thead>\n",
       "  <tbody>\n",
       "    <tr>\n",
       "      <th>0</th>\n",
       "      <td></td>\n",
       "      <td></td>\n",
       "      <td></td>\n",
       "      <td></td>\n",
       "      <td></td>\n",
       "      <td>neutral</td>\n",
       "    </tr>\n",
       "    <tr>\n",
       "      <th>1</th>\n",
       "      <td>خاصية الرقم غير صحيح فودافون وكيفية الغائها</td>\n",
       "      <td>Egypt</td>\n",
       "      <td>2022.0</td>\n",
       "      <td>3.0</td>\n",
       "      <td>31.0</td>\n",
       "      <td>neutral</td>\n",
       "    </tr>\n",
       "    <tr>\n",
       "      <th>2</th>\n",
       "      <td>لو عندك محفظة إلكترونية تابعة لاي بنك وعاوز تل...</td>\n",
       "      <td>El Daqahlia, Egypt</td>\n",
       "      <td>2022.0</td>\n",
       "      <td>3.0</td>\n",
       "      <td>31.0</td>\n",
       "      <td>neutral</td>\n",
       "    </tr>\n",
       "    <tr>\n",
       "      <th>3</th>\n",
       "      <td>فودافون تقرر تعويض العملاء بمكالمات مجانية بعد...</td>\n",
       "      <td>Cairo</td>\n",
       "      <td>2022.0</td>\n",
       "      <td>3.0</td>\n",
       "      <td>31.0</td>\n",
       "      <td>neutral</td>\n",
       "    </tr>\n",
       "    <tr>\n",
       "      <th>4</th>\n",
       "      <td>فودافونحرصا منا علي رضائك آخد شهر رمضان مجاني ...</td>\n",
       "      <td>Tanta</td>\n",
       "      <td>2022.0</td>\n",
       "      <td>3.0</td>\n",
       "      <td>31.0</td>\n",
       "      <td>neutral</td>\n",
       "    </tr>\n",
       "    <tr>\n",
       "      <th>...</th>\n",
       "      <td>...</td>\n",
       "      <td>...</td>\n",
       "      <td>...</td>\n",
       "      <td>...</td>\n",
       "      <td>...</td>\n",
       "      <td>...</td>\n",
       "    </tr>\n",
       "    <tr>\n",
       "      <th>3631</th>\n",
       "      <td>عروض فودافون  على باقات المكالمات والانترنت ال...</td>\n",
       "      <td>القاهرة, مصر</td>\n",
       "      <td>2022.0</td>\n",
       "      <td>3.0</td>\n",
       "      <td>22.0</td>\n",
       "      <td>neutral</td>\n",
       "    </tr>\n",
       "    <tr>\n",
       "      <th>3632</th>\n",
       "      <td>هدفنا نجمع  سهم كل سهم ب  ج وتقدر تشارك باللي ...</td>\n",
       "      <td>Cairo, Egypt</td>\n",
       "      <td>2022.0</td>\n",
       "      <td>3.0</td>\n",
       "      <td>22.0</td>\n",
       "      <td>positive</td>\n",
       "    </tr>\n",
       "    <tr>\n",
       "      <th>3633</th>\n",
       "      <td>شاهد أبيوسف في إعلان فودافون الجديد</td>\n",
       "      <td>Cairo, Egypt</td>\n",
       "      <td>2022.0</td>\n",
       "      <td>3.0</td>\n",
       "      <td>22.0</td>\n",
       "      <td>neutral</td>\n",
       "    </tr>\n",
       "    <tr>\n",
       "      <th>3634</th>\n",
       "      <td>يعني إيه فودافون كان إسمها كليك و موبينيل كان ...</td>\n",
       "      <td>مــ𓁳𓆃ـصـر  𝕰𝖌𝖞𝖕𝖙𓁳𓄿𓅓</td>\n",
       "      <td>2022.0</td>\n",
       "      <td>3.0</td>\n",
       "      <td>22.0</td>\n",
       "      <td>neutral</td>\n",
       "    </tr>\n",
       "    <tr>\n",
       "      <th>3635</th>\n",
       "      <td></td>\n",
       "      <td></td>\n",
       "      <td></td>\n",
       "      <td></td>\n",
       "      <td></td>\n",
       "      <td>neutral</td>\n",
       "    </tr>\n",
       "  </tbody>\n",
       "</table>\n",
       "<p>3636 rows × 6 columns</p>\n",
       "</div>"
      ],
      "text/plain": [
       "                                                  Tweet              Location  \\\n",
       "0                                                                               \n",
       "1          خاصية الرقم غير صحيح فودافون وكيفية الغائها                  Egypt   \n",
       "2     لو عندك محفظة إلكترونية تابعة لاي بنك وعاوز تل...    El Daqahlia, Egypt   \n",
       "3     فودافون تقرر تعويض العملاء بمكالمات مجانية بعد...                 Cairo   \n",
       "4     فودافونحرصا منا علي رضائك آخد شهر رمضان مجاني ...                 Tanta   \n",
       "...                                                 ...                   ...   \n",
       "3631  عروض فودافون  على باقات المكالمات والانترنت ال...          القاهرة, مصر   \n",
       "3632  هدفنا نجمع  سهم كل سهم ب  ج وتقدر تشارك باللي ...          Cairo, Egypt   \n",
       "3633              شاهد أبيوسف في إعلان فودافون الجديد            Cairo, Egypt   \n",
       "3634  يعني إيه فودافون كان إسمها كليك و موبينيل كان ...  مــ𓁳𓆃ـصـر  𝕰𝖌𝖞𝖕𝖙𓁳𓄿𓅓    \n",
       "3635                                                                            \n",
       "\n",
       "        year month   day Sentiment  \n",
       "0                          neutral  \n",
       "1     2022.0   3.0  31.0   neutral  \n",
       "2     2022.0   3.0  31.0   neutral  \n",
       "3     2022.0   3.0  31.0   neutral  \n",
       "4     2022.0   3.0  31.0   neutral  \n",
       "...      ...   ...   ...       ...  \n",
       "3631  2022.0   3.0  22.0   neutral  \n",
       "3632  2022.0   3.0  22.0  positive  \n",
       "3633  2022.0   3.0  22.0   neutral  \n",
       "3634  2022.0   3.0  22.0   neutral  \n",
       "3635                       neutral  \n",
       "\n",
       "[3636 rows x 6 columns]"
      ]
     },
     "execution_count": 3,
     "metadata": {},
     "output_type": "execute_result"
    }
   ],
   "source": [
    "df"
   ]
  },
  {
   "cell_type": "code",
   "execution_count": 4,
   "id": "a14a10dc",
   "metadata": {},
   "outputs": [],
   "source": [
    "df.dropna(inplace= True)"
   ]
  },
  {
   "cell_type": "code",
   "execution_count": 5,
   "id": "b015ae52",
   "metadata": {},
   "outputs": [
    {
     "name": "stdout",
     "output_type": "stream",
     "text": [
      "<class 'pandas.core.frame.DataFrame'>\n",
      "Int64Index: 3547 entries, 0 to 3635\n",
      "Data columns (total 6 columns):\n",
      " #   Column     Non-Null Count  Dtype \n",
      "---  ------     --------------  ----- \n",
      " 0   Tweet      3547 non-null   object\n",
      " 1   Location   3547 non-null   object\n",
      " 2   year       3547 non-null   object\n",
      " 3   month      3547 non-null   object\n",
      " 4   day        3547 non-null   object\n",
      " 5   Sentiment  3547 non-null   object\n",
      "dtypes: object(6)\n",
      "memory usage: 194.0+ KB\n"
     ]
    }
   ],
   "source": [
    "df.info()"
   ]
  },
  {
   "cell_type": "code",
   "execution_count": 6,
   "id": "41271bd3",
   "metadata": {},
   "outputs": [],
   "source": [
    "CredNew = credentials.Certificate('C:\\\\Users\\\\fmabd\\\\Documents\\\\GitHub\\\\Smart-Customer-Care\\\\Database\\\\smartcc-960f7-firebase-adminsdk-ijo0i-27aa89d85e.json')\n",
    "new=firebase_admin.initialize_app(CredNew,name=\"new\")\n",
    "\n",
    "db = firestore.client(new)"
   ]
  },
  {
   "cell_type": "code",
   "execution_count": 15,
   "id": "ee14d8c7",
   "metadata": {},
   "outputs": [],
   "source": [
    "csv= json.loads(json.dumps(df[0:3000].to_dict()))"
   ]
  },
  {
   "cell_type": "code",
   "execution_count": 16,
   "id": "5dd19c26",
   "metadata": {},
   "outputs": [],
   "source": [
    "csv2= json.loads(json.dumps(df[3000:].to_dict()))"
   ]
  },
  {
   "cell_type": "code",
   "execution_count": 17,
   "id": "2bade099",
   "metadata": {},
   "outputs": [],
   "source": [
    "\n",
    "\n",
    "# datetime object containing current date and time\n",
    "now = datetime.now()\n",
    "now= str(now)\n",
    "\n",
    "\n",
    "now1 = datetime.now()\n",
    "now1= str(now1)"
   ]
  },
  {
   "cell_type": "code",
   "execution_count": 18,
   "id": "48735ede",
   "metadata": {},
   "outputs": [],
   "source": [
    "tweets= db.collection(u'test').document(now).set(csv)\n",
    "tweets1= db.collection(u'test').document(now1).set(csv2)"
   ]
  },
  {
   "cell_type": "markdown",
   "id": "7597b44f",
   "metadata": {},
   "source": [
    "# will use these commented codes in upcoming phases # "
   ]
  },
  {
   "cell_type": "code",
   "execution_count": null,
   "id": "b69b0a55",
   "metadata": {},
   "outputs": [],
   "source": [
    "'''\n",
    "DataOld=[]\n",
    "ids=[]\n",
    "all_users_ref_2 = db.collection(u'test').stream()\n",
    "for users in all_users_ref_2:\n",
    "    #print(u'{} => {}'.format(users.id, users.to_dict()))\n",
    "    DataOld.append(users.to_dict())\n",
    "    ids.append(users.id)\n",
    "'''"
   ]
  },
  {
   "cell_type": "code",
   "execution_count": null,
   "id": "16cea982",
   "metadata": {},
   "outputs": [],
   "source": [
    "'''\n",
    "dataNew=[]\n",
    "idsNew=[]\n",
    "all_users_ref_2 = db.collection(u'test').stream()\n",
    "for users in all_users_ref_2:\n",
    "    #print(u'{} => {}'.format(users.id, users.to_dict()))\n",
    "    dataNew.append(users.to_dict())\n",
    "    idsNew.append(users.id)\n",
    "'''"
   ]
  },
  {
   "cell_type": "code",
   "execution_count": null,
   "id": "eb13a9d0",
   "metadata": {},
   "outputs": [],
   "source": [
    "#compare between new data and old one\n",
    "'''\n",
    "for i in range(len(DataOld)):\n",
    "    if DataOld[i] not in dataNew:\n",
    "        db.collection(u'test').document(ids[i]).set(DataOld[i])\n",
    "    else:\n",
    "        print(\"data already exists\")\n",
    "    '''"
   ]
  },
  {
   "cell_type": "code",
   "execution_count": null,
   "id": "be1771a9",
   "metadata": {},
   "outputs": [],
   "source": [
    "#read old data from old firebase account\n",
    "'''\n",
    "# Use a service account\n",
    "CredOld = credentials.Certificate('C:\\\\Users\\\\fmabd\\\\Documents\\\\GitHub\\\\Smart-Customer-Care\\\\Database\\\\smartcc-26e57-85547b8418c0.json')\n",
    "old=firebase_admin.initialize_app(CredOld,name=\"old\")\n",
    "\n",
    "db = firestore.client(old)\n",
    "'''"
   ]
  },
  {
   "cell_type": "code",
   "execution_count": null,
   "id": "91527ae9",
   "metadata": {},
   "outputs": [],
   "source": []
  },
  {
   "cell_type": "code",
   "execution_count": null,
   "id": "1b43fe20",
   "metadata": {},
   "outputs": [],
   "source": [
    "# read full collection in the new account\n",
    "'''\n",
    "\n",
    "database_2 = firestore.client()\n",
    "all_users_ref_2 = database_2.collection(u'test').stream()\n",
    "for users in all_users_ref_2:\n",
    "  print(u'{} => {}'.format(users.id, users.to_dict()))\n",
    "\n",
    "'''"
   ]
  },
  {
   "cell_type": "code",
   "execution_count": null,
   "id": "2343a24d",
   "metadata": {},
   "outputs": [],
   "source": []
  }
 ],
 "metadata": {
  "kernelspec": {
   "display_name": "Python 3 (ipykernel)",
   "language": "python",
   "name": "python3"
  },
  "language_info": {
   "codemirror_mode": {
    "name": "ipython",
    "version": 3
   },
   "file_extension": ".py",
   "mimetype": "text/x-python",
   "name": "python",
   "nbconvert_exporter": "python",
   "pygments_lexer": "ipython3",
   "version": "3.9.6"
  }
 },
 "nbformat": 4,
 "nbformat_minor": 5
}
